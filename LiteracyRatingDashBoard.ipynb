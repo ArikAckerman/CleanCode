{
  "nbformat": 4,
  "nbformat_minor": 0,
  "metadata": {
    "colab": {
      "provenance": [],
      "include_colab_link": true
    },
    "kernelspec": {
      "name": "python3",
      "display_name": "Python 3"
    },
    "language_info": {
      "name": "python"
    }
  },
  "cells": [
    {
      "cell_type": "markdown",
      "metadata": {
        "id": "view-in-github",
        "colab_type": "text"
      },
      "source": [
        "<a href=\"https://colab.research.google.com/github/ArikAckerman/CleanCode/blob/main/LiteracyRatingDashBoard.ipynb\" target=\"_parent\"><img src=\"https://colab.research.google.com/assets/colab-badge.svg\" alt=\"Open In Colab\"/></a>"
      ]
    },
    {
      "cell_type": "code",
      "execution_count": null,
      "metadata": {
        "colab": {
          "base_uri": "https://localhost:8080/"
        },
        "id": "3dbz3bu_LJsN",
        "outputId": "942809af-85c0-4c1b-d3ef-b6af145afe72"
      },
      "outputs": [
        {
          "output_type": "stream",
          "name": "stdout",
          "text": [
            "Looking in indexes: https://pypi.org/simple, https://us-python.pkg.dev/colab-wheels/public/simple/\n",
            "Collecting scipy==1.6.2\n",
            "  Downloading scipy-1.6.2-cp38-cp38-manylinux1_x86_64.whl (27.2 MB)\n",
            "\u001b[K     |████████████████████████████████| 27.2 MB 1.2 MB/s \n",
            "\u001b[?25hRequirement already satisfied: numpy<1.23.0,>=1.16.5 in /usr/local/lib/python3.8/dist-packages (from scipy==1.6.2) (1.21.6)\n",
            "Installing collected packages: scipy\n",
            "  Attempting uninstall: scipy\n",
            "    Found existing installation: scipy 1.7.3\n",
            "    Uninstalling scipy-1.7.3:\n",
            "      Successfully uninstalled scipy-1.7.3\n",
            "Successfully installed scipy-1.6.2\n"
          ]
        }
      ],
      "source": [
        "!pip install scipy==1.6.2"
      ]
    },
    {
      "cell_type": "code",
      "source": [
        "import pandas as pd\n",
        "import seaborn as sns\n",
        "import numpy as np\n",
        "import statistics\n",
        "import matplotlib.pyplot as plt\n",
        "from scipy import stats\n",
        "from sklearn.preprocessing import PolynomialFeatures\n",
        "\n",
        "# Fitting Linear Regression to the dataset\n",
        "from sklearn.linear_model import LinearRegression"
      ],
      "metadata": {
        "id": "cAnY4azVLWmE"
      },
      "execution_count": null,
      "outputs": []
    },
    {
      "cell_type": "markdown",
      "source": [
        "\n",
        "Part 1 (descriptive part)\n",
        "\n",
        "Determination of statistical features"
      ],
      "metadata": {
        "id": "wOJ2muKjNJZk"
      }
    },
    {
      "cell_type": "code",
      "source": [
        "sns.set(style=\"ticks\", context=\"talk\")\n",
        "plt.style.use(\"dark_background\")\n",
        "\n",
        "file = \"https://raw.githubusercontent.com/ArikAckerman/dashboard/main/15.csv\"\n",
        "data15 = pd.read_csv(file, sep=';')\n",
        "\n",
        "print(data15)\n",
        "\n",
        "N15 = len(data15)\n",
        "\n",
        "age15 = data15['Age']\n",
        "result15 = data15['Rate']\n",
        "year15 = data15['Year']\n",
        "\n",
        "print('Literacy Min:', result15.min())\n",
        "print('Literacy Max:', result15.max())\n",
        "print('Literacy Std:', result15.std())\n",
        "print('Literacy Mean:', result15.mean())\n",
        "print('Literacy Dispersion:', result15.var())\n",
        "print('Literacy Assimetry:', result15.skew())\n",
        "sum1 = 0\n",
        "for i in range(0,N15):\n",
        "  sum1 += (result15[i]-result15.mean())**4-3\n",
        "Kurtosis15 =(N15/(N15-1)**2*result15.std()**4)*sum1\n",
        "print('Literacy Kurtosis:', Kurtosis15, end='\\n')\n",
        "data15\n",
        "\n"
      ],
      "metadata": {
        "id": "XTB-xvQFNLIj",
        "colab": {
          "base_uri": "https://localhost:8080/",
          "height": 788
        },
        "outputId": "881509bc-9fc5-4fc5-cbdf-22d129785c73"
      },
      "execution_count": null,
      "outputs": [
        {
          "output_type": "stream",
          "name": "stdout",
          "text": [
            "         Country  Year  Age     Sex    Rate\n",
            "0    Afghanistan  2012  15+  female  0.9938\n",
            "1    Afghanistan  2012  15+    male  0.9961\n",
            "2        Albania  2012  15+  female  0.8449\n",
            "3        Albania  2012  15+    male  0.9883\n",
            "4        Algeria  2012  15+  female  0.4831\n",
            "..           ...   ...  ...     ...     ...\n",
            "161      Uruguay  2012  15+    male  0.8939\n",
            "162     Viet Nam  2012  15+  female  0.7749\n",
            "163     Viet Nam  2012  15+    male  0.7557\n",
            "164       Zambia  2012  15+  female  0.3608\n",
            "165       Zambia  2012  15+    male  1.0000\n",
            "\n",
            "[166 rows x 5 columns]\n",
            "Literacy Min: 0.0703\n",
            "Literacy Max: 1.0\n",
            "Literacy Std: 0.2357625716405478\n",
            "Literacy Mean: 0.8015319277108435\n",
            "Literacy Dispersion: 0.05558399018656444\n",
            "Literacy Assimetry: -1.3854098864794406\n",
            "Literacy Kurtosis: -0.00934398272830649\n"
          ]
        },
        {
          "output_type": "execute_result",
          "data": {
            "text/plain": [
              "         Country  Year  Age     Sex    Rate\n",
              "0    Afghanistan  2012  15+  female  0.9938\n",
              "1    Afghanistan  2012  15+    male  0.9961\n",
              "2        Albania  2012  15+  female  0.8449\n",
              "3        Albania  2012  15+    male  0.9883\n",
              "4        Algeria  2012  15+  female  0.4831\n",
              "..           ...   ...  ...     ...     ...\n",
              "161      Uruguay  2012  15+    male  0.8939\n",
              "162     Viet Nam  2012  15+  female  0.7749\n",
              "163     Viet Nam  2012  15+    male  0.7557\n",
              "164       Zambia  2012  15+  female  0.3608\n",
              "165       Zambia  2012  15+    male  1.0000\n",
              "\n",
              "[166 rows x 5 columns]"
            ],
            "text/html": [
              "\n",
              "  <div id=\"df-57e7539d-0a80-4da1-8945-3f264bc05ef6\">\n",
              "    <div class=\"colab-df-container\">\n",
              "      <div>\n",
              "<style scoped>\n",
              "    .dataframe tbody tr th:only-of-type {\n",
              "        vertical-align: middle;\n",
              "    }\n",
              "\n",
              "    .dataframe tbody tr th {\n",
              "        vertical-align: top;\n",
              "    }\n",
              "\n",
              "    .dataframe thead th {\n",
              "        text-align: right;\n",
              "    }\n",
              "</style>\n",
              "<table border=\"1\" class=\"dataframe\">\n",
              "  <thead>\n",
              "    <tr style=\"text-align: right;\">\n",
              "      <th></th>\n",
              "      <th>Country</th>\n",
              "      <th>Year</th>\n",
              "      <th>Age</th>\n",
              "      <th>Sex</th>\n",
              "      <th>Rate</th>\n",
              "    </tr>\n",
              "  </thead>\n",
              "  <tbody>\n",
              "    <tr>\n",
              "      <th>0</th>\n",
              "      <td>Afghanistan</td>\n",
              "      <td>2012</td>\n",
              "      <td>15+</td>\n",
              "      <td>female</td>\n",
              "      <td>0.9938</td>\n",
              "    </tr>\n",
              "    <tr>\n",
              "      <th>1</th>\n",
              "      <td>Afghanistan</td>\n",
              "      <td>2012</td>\n",
              "      <td>15+</td>\n",
              "      <td>male</td>\n",
              "      <td>0.9961</td>\n",
              "    </tr>\n",
              "    <tr>\n",
              "      <th>2</th>\n",
              "      <td>Albania</td>\n",
              "      <td>2012</td>\n",
              "      <td>15+</td>\n",
              "      <td>female</td>\n",
              "      <td>0.8449</td>\n",
              "    </tr>\n",
              "    <tr>\n",
              "      <th>3</th>\n",
              "      <td>Albania</td>\n",
              "      <td>2012</td>\n",
              "      <td>15+</td>\n",
              "      <td>male</td>\n",
              "      <td>0.9883</td>\n",
              "    </tr>\n",
              "    <tr>\n",
              "      <th>4</th>\n",
              "      <td>Algeria</td>\n",
              "      <td>2012</td>\n",
              "      <td>15+</td>\n",
              "      <td>female</td>\n",
              "      <td>0.4831</td>\n",
              "    </tr>\n",
              "    <tr>\n",
              "      <th>...</th>\n",
              "      <td>...</td>\n",
              "      <td>...</td>\n",
              "      <td>...</td>\n",
              "      <td>...</td>\n",
              "      <td>...</td>\n",
              "    </tr>\n",
              "    <tr>\n",
              "      <th>161</th>\n",
              "      <td>Uruguay</td>\n",
              "      <td>2012</td>\n",
              "      <td>15+</td>\n",
              "      <td>male</td>\n",
              "      <td>0.8939</td>\n",
              "    </tr>\n",
              "    <tr>\n",
              "      <th>162</th>\n",
              "      <td>Viet Nam</td>\n",
              "      <td>2012</td>\n",
              "      <td>15+</td>\n",
              "      <td>female</td>\n",
              "      <td>0.7749</td>\n",
              "    </tr>\n",
              "    <tr>\n",
              "      <th>163</th>\n",
              "      <td>Viet Nam</td>\n",
              "      <td>2012</td>\n",
              "      <td>15+</td>\n",
              "      <td>male</td>\n",
              "      <td>0.7557</td>\n",
              "    </tr>\n",
              "    <tr>\n",
              "      <th>164</th>\n",
              "      <td>Zambia</td>\n",
              "      <td>2012</td>\n",
              "      <td>15+</td>\n",
              "      <td>female</td>\n",
              "      <td>0.3608</td>\n",
              "    </tr>\n",
              "    <tr>\n",
              "      <th>165</th>\n",
              "      <td>Zambia</td>\n",
              "      <td>2012</td>\n",
              "      <td>15+</td>\n",
              "      <td>male</td>\n",
              "      <td>1.0000</td>\n",
              "    </tr>\n",
              "  </tbody>\n",
              "</table>\n",
              "<p>166 rows × 5 columns</p>\n",
              "</div>\n",
              "      <button class=\"colab-df-convert\" onclick=\"convertToInteractive('df-57e7539d-0a80-4da1-8945-3f264bc05ef6')\"\n",
              "              title=\"Convert this dataframe to an interactive table.\"\n",
              "              style=\"display:none;\">\n",
              "        \n",
              "  <svg xmlns=\"http://www.w3.org/2000/svg\" height=\"24px\"viewBox=\"0 0 24 24\"\n",
              "       width=\"24px\">\n",
              "    <path d=\"M0 0h24v24H0V0z\" fill=\"none\"/>\n",
              "    <path d=\"M18.56 5.44l.94 2.06.94-2.06 2.06-.94-2.06-.94-.94-2.06-.94 2.06-2.06.94zm-11 1L8.5 8.5l.94-2.06 2.06-.94-2.06-.94L8.5 2.5l-.94 2.06-2.06.94zm10 10l.94 2.06.94-2.06 2.06-.94-2.06-.94-.94-2.06-.94 2.06-2.06.94z\"/><path d=\"M17.41 7.96l-1.37-1.37c-.4-.4-.92-.59-1.43-.59-.52 0-1.04.2-1.43.59L10.3 9.45l-7.72 7.72c-.78.78-.78 2.05 0 2.83L4 21.41c.39.39.9.59 1.41.59.51 0 1.02-.2 1.41-.59l7.78-7.78 2.81-2.81c.8-.78.8-2.07 0-2.86zM5.41 20L4 18.59l7.72-7.72 1.47 1.35L5.41 20z\"/>\n",
              "  </svg>\n",
              "      </button>\n",
              "      \n",
              "  <style>\n",
              "    .colab-df-container {\n",
              "      display:flex;\n",
              "      flex-wrap:wrap;\n",
              "      gap: 12px;\n",
              "    }\n",
              "\n",
              "    .colab-df-convert {\n",
              "      background-color: #E8F0FE;\n",
              "      border: none;\n",
              "      border-radius: 50%;\n",
              "      cursor: pointer;\n",
              "      display: none;\n",
              "      fill: #1967D2;\n",
              "      height: 32px;\n",
              "      padding: 0 0 0 0;\n",
              "      width: 32px;\n",
              "    }\n",
              "\n",
              "    .colab-df-convert:hover {\n",
              "      background-color: #E2EBFA;\n",
              "      box-shadow: 0px 1px 2px rgba(60, 64, 67, 0.3), 0px 1px 3px 1px rgba(60, 64, 67, 0.15);\n",
              "      fill: #174EA6;\n",
              "    }\n",
              "\n",
              "    [theme=dark] .colab-df-convert {\n",
              "      background-color: #3B4455;\n",
              "      fill: #D2E3FC;\n",
              "    }\n",
              "\n",
              "    [theme=dark] .colab-df-convert:hover {\n",
              "      background-color: #434B5C;\n",
              "      box-shadow: 0px 1px 3px 1px rgba(0, 0, 0, 0.15);\n",
              "      filter: drop-shadow(0px 1px 2px rgba(0, 0, 0, 0.3));\n",
              "      fill: #FFFFFF;\n",
              "    }\n",
              "  </style>\n",
              "\n",
              "      <script>\n",
              "        const buttonEl =\n",
              "          document.querySelector('#df-57e7539d-0a80-4da1-8945-3f264bc05ef6 button.colab-df-convert');\n",
              "        buttonEl.style.display =\n",
              "          google.colab.kernel.accessAllowed ? 'block' : 'none';\n",
              "\n",
              "        async function convertToInteractive(key) {\n",
              "          const element = document.querySelector('#df-57e7539d-0a80-4da1-8945-3f264bc05ef6');\n",
              "          const dataTable =\n",
              "            await google.colab.kernel.invokeFunction('convertToInteractive',\n",
              "                                                     [key], {});\n",
              "          if (!dataTable) return;\n",
              "\n",
              "          const docLinkHtml = 'Like what you see? Visit the ' +\n",
              "            '<a target=\"_blank\" href=https://colab.research.google.com/notebooks/data_table.ipynb>data table notebook</a>'\n",
              "            + ' to learn more about interactive tables.';\n",
              "          element.innerHTML = '';\n",
              "          dataTable['output_type'] = 'display_data';\n",
              "          await google.colab.output.renderOutput(dataTable, element);\n",
              "          const docLink = document.createElement('div');\n",
              "          docLink.innerHTML = docLinkHtml;\n",
              "          element.appendChild(docLink);\n",
              "        }\n",
              "      </script>\n",
              "    </div>\n",
              "  </div>\n",
              "  "
            ]
          },
          "metadata": {},
          "execution_count": 25
        }
      ]
    },
    {
      "cell_type": "code",
      "source": [
        "sns.set(style=\"ticks\", context=\"talk\")\n",
        "plt.style.use(\"dark_background\")\n",
        "\n",
        "file = \"https://raw.githubusercontent.com/ArikAckerman/dashboard/main/15-24.csv\"\n",
        "data24 = pd.read_csv(file, sep=';')\n",
        "\n",
        "print(data24)\n",
        "\n",
        "N24 = len(data24)\n",
        "\n",
        "age24 = data24['Age']\n",
        "result24 = data24['Rate']\n",
        "year24 = data24['Year']\n",
        "\n",
        "print('Literacy Min:', result24.min())\n",
        "print('Literacy Max:', result24.max())\n",
        "print('Literacy Std:', result24.std())\n",
        "print('Literacy Mean:', result24.mean())\n",
        "print('Literacy Dispersion:', result24.var())\n",
        "print('Literacy Assimetry:', result24.skew())\n",
        "sum1 = 0\n",
        "for i in range(0,N24):\n",
        "  sum1 += (result24[i]-result24.mean())**4-3\n",
        "Kurtosis24 =(N24/(N24-1)**2*result24.std()**4)*sum1\n",
        "print('Literacy Kurtosis:', Kurtosis24, end='\\n')\n",
        "data24"
      ],
      "metadata": {
        "colab": {
          "base_uri": "https://localhost:8080/",
          "height": 788
        },
        "id": "xs7buDuSYcZb",
        "outputId": "cb5adc5e-1e7b-45c5-a164-21162cd36e23"
      },
      "execution_count": null,
      "outputs": [
        {
          "output_type": "stream",
          "name": "stdout",
          "text": [
            "         Country  Year    Age     Sex    Rate\n",
            "0    Afghanistan  2012  15-24  female  0.9923\n",
            "1    Afghanistan  2012  15-24    male  0.9902\n",
            "2        Albania  2012  15-24  female  0.5249\n",
            "3        Albania  2012  15-24    male  0.4094\n",
            "4        Algeria  2012  15-24  female  0.9813\n",
            "..           ...   ...    ...     ...     ...\n",
            "161      Uruguay  2012  15-24    male  0.7784\n",
            "162     Viet Nam  2012  15-24  female  0.9328\n",
            "163     Viet Nam  2012  15-24    male  0.7402\n",
            "164       Zambia  2012  15-24  female  0.4117\n",
            "165       Zambia  2012  15-24    male  0.8929\n",
            "\n",
            "[166 rows x 5 columns]\n",
            "Literacy Min: 0.0797\n",
            "Literacy Max: 0.9998\n",
            "Literacy Std: 0.2303523441838064\n",
            "Literacy Mean: 0.7881566265060241\n",
            "Literacy Dispersion: 0.053062202470974804\n",
            "Literacy Assimetry: -1.1841939036909988\n",
            "Literacy Kurtosis: -0.008521816882380105\n"
          ]
        },
        {
          "output_type": "execute_result",
          "data": {
            "text/plain": [
              "         Country  Year    Age     Sex    Rate\n",
              "0    Afghanistan  2012  15-24  female  0.9923\n",
              "1    Afghanistan  2012  15-24    male  0.9902\n",
              "2        Albania  2012  15-24  female  0.5249\n",
              "3        Albania  2012  15-24    male  0.4094\n",
              "4        Algeria  2012  15-24  female  0.9813\n",
              "..           ...   ...    ...     ...     ...\n",
              "161      Uruguay  2012  15-24    male  0.7784\n",
              "162     Viet Nam  2012  15-24  female  0.9328\n",
              "163     Viet Nam  2012  15-24    male  0.7402\n",
              "164       Zambia  2012  15-24  female  0.4117\n",
              "165       Zambia  2012  15-24    male  0.8929\n",
              "\n",
              "[166 rows x 5 columns]"
            ],
            "text/html": [
              "\n",
              "  <div id=\"df-3753c23b-735c-4486-a6fa-4db100283f4c\">\n",
              "    <div class=\"colab-df-container\">\n",
              "      <div>\n",
              "<style scoped>\n",
              "    .dataframe tbody tr th:only-of-type {\n",
              "        vertical-align: middle;\n",
              "    }\n",
              "\n",
              "    .dataframe tbody tr th {\n",
              "        vertical-align: top;\n",
              "    }\n",
              "\n",
              "    .dataframe thead th {\n",
              "        text-align: right;\n",
              "    }\n",
              "</style>\n",
              "<table border=\"1\" class=\"dataframe\">\n",
              "  <thead>\n",
              "    <tr style=\"text-align: right;\">\n",
              "      <th></th>\n",
              "      <th>Country</th>\n",
              "      <th>Year</th>\n",
              "      <th>Age</th>\n",
              "      <th>Sex</th>\n",
              "      <th>Rate</th>\n",
              "    </tr>\n",
              "  </thead>\n",
              "  <tbody>\n",
              "    <tr>\n",
              "      <th>0</th>\n",
              "      <td>Afghanistan</td>\n",
              "      <td>2012</td>\n",
              "      <td>15-24</td>\n",
              "      <td>female</td>\n",
              "      <td>0.9923</td>\n",
              "    </tr>\n",
              "    <tr>\n",
              "      <th>1</th>\n",
              "      <td>Afghanistan</td>\n",
              "      <td>2012</td>\n",
              "      <td>15-24</td>\n",
              "      <td>male</td>\n",
              "      <td>0.9902</td>\n",
              "    </tr>\n",
              "    <tr>\n",
              "      <th>2</th>\n",
              "      <td>Albania</td>\n",
              "      <td>2012</td>\n",
              "      <td>15-24</td>\n",
              "      <td>female</td>\n",
              "      <td>0.5249</td>\n",
              "    </tr>\n",
              "    <tr>\n",
              "      <th>3</th>\n",
              "      <td>Albania</td>\n",
              "      <td>2012</td>\n",
              "      <td>15-24</td>\n",
              "      <td>male</td>\n",
              "      <td>0.4094</td>\n",
              "    </tr>\n",
              "    <tr>\n",
              "      <th>4</th>\n",
              "      <td>Algeria</td>\n",
              "      <td>2012</td>\n",
              "      <td>15-24</td>\n",
              "      <td>female</td>\n",
              "      <td>0.9813</td>\n",
              "    </tr>\n",
              "    <tr>\n",
              "      <th>...</th>\n",
              "      <td>...</td>\n",
              "      <td>...</td>\n",
              "      <td>...</td>\n",
              "      <td>...</td>\n",
              "      <td>...</td>\n",
              "    </tr>\n",
              "    <tr>\n",
              "      <th>161</th>\n",
              "      <td>Uruguay</td>\n",
              "      <td>2012</td>\n",
              "      <td>15-24</td>\n",
              "      <td>male</td>\n",
              "      <td>0.7784</td>\n",
              "    </tr>\n",
              "    <tr>\n",
              "      <th>162</th>\n",
              "      <td>Viet Nam</td>\n",
              "      <td>2012</td>\n",
              "      <td>15-24</td>\n",
              "      <td>female</td>\n",
              "      <td>0.9328</td>\n",
              "    </tr>\n",
              "    <tr>\n",
              "      <th>163</th>\n",
              "      <td>Viet Nam</td>\n",
              "      <td>2012</td>\n",
              "      <td>15-24</td>\n",
              "      <td>male</td>\n",
              "      <td>0.7402</td>\n",
              "    </tr>\n",
              "    <tr>\n",
              "      <th>164</th>\n",
              "      <td>Zambia</td>\n",
              "      <td>2012</td>\n",
              "      <td>15-24</td>\n",
              "      <td>female</td>\n",
              "      <td>0.4117</td>\n",
              "    </tr>\n",
              "    <tr>\n",
              "      <th>165</th>\n",
              "      <td>Zambia</td>\n",
              "      <td>2012</td>\n",
              "      <td>15-24</td>\n",
              "      <td>male</td>\n",
              "      <td>0.8929</td>\n",
              "    </tr>\n",
              "  </tbody>\n",
              "</table>\n",
              "<p>166 rows × 5 columns</p>\n",
              "</div>\n",
              "      <button class=\"colab-df-convert\" onclick=\"convertToInteractive('df-3753c23b-735c-4486-a6fa-4db100283f4c')\"\n",
              "              title=\"Convert this dataframe to an interactive table.\"\n",
              "              style=\"display:none;\">\n",
              "        \n",
              "  <svg xmlns=\"http://www.w3.org/2000/svg\" height=\"24px\"viewBox=\"0 0 24 24\"\n",
              "       width=\"24px\">\n",
              "    <path d=\"M0 0h24v24H0V0z\" fill=\"none\"/>\n",
              "    <path d=\"M18.56 5.44l.94 2.06.94-2.06 2.06-.94-2.06-.94-.94-2.06-.94 2.06-2.06.94zm-11 1L8.5 8.5l.94-2.06 2.06-.94-2.06-.94L8.5 2.5l-.94 2.06-2.06.94zm10 10l.94 2.06.94-2.06 2.06-.94-2.06-.94-.94-2.06-.94 2.06-2.06.94z\"/><path d=\"M17.41 7.96l-1.37-1.37c-.4-.4-.92-.59-1.43-.59-.52 0-1.04.2-1.43.59L10.3 9.45l-7.72 7.72c-.78.78-.78 2.05 0 2.83L4 21.41c.39.39.9.59 1.41.59.51 0 1.02-.2 1.41-.59l7.78-7.78 2.81-2.81c.8-.78.8-2.07 0-2.86zM5.41 20L4 18.59l7.72-7.72 1.47 1.35L5.41 20z\"/>\n",
              "  </svg>\n",
              "      </button>\n",
              "      \n",
              "  <style>\n",
              "    .colab-df-container {\n",
              "      display:flex;\n",
              "      flex-wrap:wrap;\n",
              "      gap: 12px;\n",
              "    }\n",
              "\n",
              "    .colab-df-convert {\n",
              "      background-color: #E8F0FE;\n",
              "      border: none;\n",
              "      border-radius: 50%;\n",
              "      cursor: pointer;\n",
              "      display: none;\n",
              "      fill: #1967D2;\n",
              "      height: 32px;\n",
              "      padding: 0 0 0 0;\n",
              "      width: 32px;\n",
              "    }\n",
              "\n",
              "    .colab-df-convert:hover {\n",
              "      background-color: #E2EBFA;\n",
              "      box-shadow: 0px 1px 2px rgba(60, 64, 67, 0.3), 0px 1px 3px 1px rgba(60, 64, 67, 0.15);\n",
              "      fill: #174EA6;\n",
              "    }\n",
              "\n",
              "    [theme=dark] .colab-df-convert {\n",
              "      background-color: #3B4455;\n",
              "      fill: #D2E3FC;\n",
              "    }\n",
              "\n",
              "    [theme=dark] .colab-df-convert:hover {\n",
              "      background-color: #434B5C;\n",
              "      box-shadow: 0px 1px 3px 1px rgba(0, 0, 0, 0.15);\n",
              "      filter: drop-shadow(0px 1px 2px rgba(0, 0, 0, 0.3));\n",
              "      fill: #FFFFFF;\n",
              "    }\n",
              "  </style>\n",
              "\n",
              "      <script>\n",
              "        const buttonEl =\n",
              "          document.querySelector('#df-3753c23b-735c-4486-a6fa-4db100283f4c button.colab-df-convert');\n",
              "        buttonEl.style.display =\n",
              "          google.colab.kernel.accessAllowed ? 'block' : 'none';\n",
              "\n",
              "        async function convertToInteractive(key) {\n",
              "          const element = document.querySelector('#df-3753c23b-735c-4486-a6fa-4db100283f4c');\n",
              "          const dataTable =\n",
              "            await google.colab.kernel.invokeFunction('convertToInteractive',\n",
              "                                                     [key], {});\n",
              "          if (!dataTable) return;\n",
              "\n",
              "          const docLinkHtml = 'Like what you see? Visit the ' +\n",
              "            '<a target=\"_blank\" href=https://colab.research.google.com/notebooks/data_table.ipynb>data table notebook</a>'\n",
              "            + ' to learn more about interactive tables.';\n",
              "          element.innerHTML = '';\n",
              "          dataTable['output_type'] = 'display_data';\n",
              "          await google.colab.output.renderOutput(dataTable, element);\n",
              "          const docLink = document.createElement('div');\n",
              "          docLink.innerHTML = docLinkHtml;\n",
              "          element.appendChild(docLink);\n",
              "        }\n",
              "      </script>\n",
              "    </div>\n",
              "  </div>\n",
              "  "
            ]
          },
          "metadata": {},
          "execution_count": 27
        }
      ]
    },
    {
      "cell_type": "code",
      "source": [
        "sns.set(style=\"ticks\", context=\"talk\")\n",
        "plt.style.use(\"dark_background\")\n",
        "\n",
        "file = \"https://raw.githubusercontent.com/ArikAckerman/dashboard/main/24-64.csv\"\n",
        "data25 = pd.read_csv(file, sep=';')\n",
        "\n",
        "print(data25)\n",
        "\n",
        "N25 = len(data25)\n",
        "\n",
        "age25 = data25['Age']\n",
        "result25 = data25['Rate']\n",
        "year25 = data25['Year']\n",
        "\n",
        "print('Literacy Min:', result25.min())\n",
        "print('Literacy Max:', result25.max())\n",
        "print('Literacy Std:', result25.std())\n",
        "print('Literacy Mean:', result25.mean())\n",
        "print('Literacy Dispersion:', result25.var())\n",
        "print('Literacy Assimetry:', result25.skew())\n",
        "sum1 = 0\n",
        "for i in range(0,N25):\n",
        "  sum1 += (result25[i]-result25.mean())**4-3\n",
        "Kurtosis25 =(N25/(N25-1)**2*result25.std()**4)*sum1\n",
        "print('Literacy Kurtosis:', Kurtosis25, end='\\n')\n",
        "data25"
      ],
      "metadata": {
        "colab": {
          "base_uri": "https://localhost:8080/",
          "height": 788
        },
        "id": "Mehc4GPZa2NN",
        "outputId": "56c51ced-683f-4c3b-d103-96bfed3e7371"
      },
      "execution_count": null,
      "outputs": [
        {
          "output_type": "stream",
          "name": "stdout",
          "text": [
            "         Country  Year    Age     Sex    Rate\n",
            "0    Afghanistan  2012  25-64  female  0.9994\n",
            "1    Afghanistan  2012  25-64    male  0.9992\n",
            "2        Albania  2012  25-64  female  0.9902\n",
            "3        Albania  2012  25-64    male  0.8732\n",
            "4        Algeria  2012  25-64  female  0.6960\n",
            "..           ...   ...    ...     ...     ...\n",
            "162      Uruguay  2012  25-64    male  0.9826\n",
            "163     Viet Nam  2012  25-64  female  0.9608\n",
            "164     Viet Nam  2012  25-64    male  0.8149\n",
            "165       Zambia  2012  25-64  female  0.5900\n",
            "166       Zambia  2012  25-64    male  0.9643\n",
            "\n",
            "[167 rows x 5 columns]\n",
            "Literacy Min: 0.0136\n",
            "Literacy Max: 1.0\n",
            "Literacy Std: 0.27573276713843536\n",
            "Literacy Mean: 0.7755832335329341\n",
            "Literacy Dispersion: 0.07602855887381862\n",
            "Literacy Assimetry: -1.2285841490314753\n",
            "Literacy Kurtosis: -0.01744346292341105\n"
          ]
        },
        {
          "output_type": "execute_result",
          "data": {
            "text/plain": [
              "         Country  Year    Age     Sex    Rate\n",
              "0    Afghanistan  2012  25-64  female  0.9994\n",
              "1    Afghanistan  2012  25-64    male  0.9992\n",
              "2        Albania  2012  25-64  female  0.9902\n",
              "3        Albania  2012  25-64    male  0.8732\n",
              "4        Algeria  2012  25-64  female  0.6960\n",
              "..           ...   ...    ...     ...     ...\n",
              "162      Uruguay  2012  25-64    male  0.9826\n",
              "163     Viet Nam  2012  25-64  female  0.9608\n",
              "164     Viet Nam  2012  25-64    male  0.8149\n",
              "165       Zambia  2012  25-64  female  0.5900\n",
              "166       Zambia  2012  25-64    male  0.9643\n",
              "\n",
              "[167 rows x 5 columns]"
            ],
            "text/html": [
              "\n",
              "  <div id=\"df-b518a7e2-02db-421b-8e88-717664f99db7\">\n",
              "    <div class=\"colab-df-container\">\n",
              "      <div>\n",
              "<style scoped>\n",
              "    .dataframe tbody tr th:only-of-type {\n",
              "        vertical-align: middle;\n",
              "    }\n",
              "\n",
              "    .dataframe tbody tr th {\n",
              "        vertical-align: top;\n",
              "    }\n",
              "\n",
              "    .dataframe thead th {\n",
              "        text-align: right;\n",
              "    }\n",
              "</style>\n",
              "<table border=\"1\" class=\"dataframe\">\n",
              "  <thead>\n",
              "    <tr style=\"text-align: right;\">\n",
              "      <th></th>\n",
              "      <th>Country</th>\n",
              "      <th>Year</th>\n",
              "      <th>Age</th>\n",
              "      <th>Sex</th>\n",
              "      <th>Rate</th>\n",
              "    </tr>\n",
              "  </thead>\n",
              "  <tbody>\n",
              "    <tr>\n",
              "      <th>0</th>\n",
              "      <td>Afghanistan</td>\n",
              "      <td>2012</td>\n",
              "      <td>25-64</td>\n",
              "      <td>female</td>\n",
              "      <td>0.9994</td>\n",
              "    </tr>\n",
              "    <tr>\n",
              "      <th>1</th>\n",
              "      <td>Afghanistan</td>\n",
              "      <td>2012</td>\n",
              "      <td>25-64</td>\n",
              "      <td>male</td>\n",
              "      <td>0.9992</td>\n",
              "    </tr>\n",
              "    <tr>\n",
              "      <th>2</th>\n",
              "      <td>Albania</td>\n",
              "      <td>2012</td>\n",
              "      <td>25-64</td>\n",
              "      <td>female</td>\n",
              "      <td>0.9902</td>\n",
              "    </tr>\n",
              "    <tr>\n",
              "      <th>3</th>\n",
              "      <td>Albania</td>\n",
              "      <td>2012</td>\n",
              "      <td>25-64</td>\n",
              "      <td>male</td>\n",
              "      <td>0.8732</td>\n",
              "    </tr>\n",
              "    <tr>\n",
              "      <th>4</th>\n",
              "      <td>Algeria</td>\n",
              "      <td>2012</td>\n",
              "      <td>25-64</td>\n",
              "      <td>female</td>\n",
              "      <td>0.6960</td>\n",
              "    </tr>\n",
              "    <tr>\n",
              "      <th>...</th>\n",
              "      <td>...</td>\n",
              "      <td>...</td>\n",
              "      <td>...</td>\n",
              "      <td>...</td>\n",
              "      <td>...</td>\n",
              "    </tr>\n",
              "    <tr>\n",
              "      <th>162</th>\n",
              "      <td>Uruguay</td>\n",
              "      <td>2012</td>\n",
              "      <td>25-64</td>\n",
              "      <td>male</td>\n",
              "      <td>0.9826</td>\n",
              "    </tr>\n",
              "    <tr>\n",
              "      <th>163</th>\n",
              "      <td>Viet Nam</td>\n",
              "      <td>2012</td>\n",
              "      <td>25-64</td>\n",
              "      <td>female</td>\n",
              "      <td>0.9608</td>\n",
              "    </tr>\n",
              "    <tr>\n",
              "      <th>164</th>\n",
              "      <td>Viet Nam</td>\n",
              "      <td>2012</td>\n",
              "      <td>25-64</td>\n",
              "      <td>male</td>\n",
              "      <td>0.8149</td>\n",
              "    </tr>\n",
              "    <tr>\n",
              "      <th>165</th>\n",
              "      <td>Zambia</td>\n",
              "      <td>2012</td>\n",
              "      <td>25-64</td>\n",
              "      <td>female</td>\n",
              "      <td>0.5900</td>\n",
              "    </tr>\n",
              "    <tr>\n",
              "      <th>166</th>\n",
              "      <td>Zambia</td>\n",
              "      <td>2012</td>\n",
              "      <td>25-64</td>\n",
              "      <td>male</td>\n",
              "      <td>0.9643</td>\n",
              "    </tr>\n",
              "  </tbody>\n",
              "</table>\n",
              "<p>167 rows × 5 columns</p>\n",
              "</div>\n",
              "      <button class=\"colab-df-convert\" onclick=\"convertToInteractive('df-b518a7e2-02db-421b-8e88-717664f99db7')\"\n",
              "              title=\"Convert this dataframe to an interactive table.\"\n",
              "              style=\"display:none;\">\n",
              "        \n",
              "  <svg xmlns=\"http://www.w3.org/2000/svg\" height=\"24px\"viewBox=\"0 0 24 24\"\n",
              "       width=\"24px\">\n",
              "    <path d=\"M0 0h24v24H0V0z\" fill=\"none\"/>\n",
              "    <path d=\"M18.56 5.44l.94 2.06.94-2.06 2.06-.94-2.06-.94-.94-2.06-.94 2.06-2.06.94zm-11 1L8.5 8.5l.94-2.06 2.06-.94-2.06-.94L8.5 2.5l-.94 2.06-2.06.94zm10 10l.94 2.06.94-2.06 2.06-.94-2.06-.94-.94-2.06-.94 2.06-2.06.94z\"/><path d=\"M17.41 7.96l-1.37-1.37c-.4-.4-.92-.59-1.43-.59-.52 0-1.04.2-1.43.59L10.3 9.45l-7.72 7.72c-.78.78-.78 2.05 0 2.83L4 21.41c.39.39.9.59 1.41.59.51 0 1.02-.2 1.41-.59l7.78-7.78 2.81-2.81c.8-.78.8-2.07 0-2.86zM5.41 20L4 18.59l7.72-7.72 1.47 1.35L5.41 20z\"/>\n",
              "  </svg>\n",
              "      </button>\n",
              "      \n",
              "  <style>\n",
              "    .colab-df-container {\n",
              "      display:flex;\n",
              "      flex-wrap:wrap;\n",
              "      gap: 12px;\n",
              "    }\n",
              "\n",
              "    .colab-df-convert {\n",
              "      background-color: #E8F0FE;\n",
              "      border: none;\n",
              "      border-radius: 50%;\n",
              "      cursor: pointer;\n",
              "      display: none;\n",
              "      fill: #1967D2;\n",
              "      height: 32px;\n",
              "      padding: 0 0 0 0;\n",
              "      width: 32px;\n",
              "    }\n",
              "\n",
              "    .colab-df-convert:hover {\n",
              "      background-color: #E2EBFA;\n",
              "      box-shadow: 0px 1px 2px rgba(60, 64, 67, 0.3), 0px 1px 3px 1px rgba(60, 64, 67, 0.15);\n",
              "      fill: #174EA6;\n",
              "    }\n",
              "\n",
              "    [theme=dark] .colab-df-convert {\n",
              "      background-color: #3B4455;\n",
              "      fill: #D2E3FC;\n",
              "    }\n",
              "\n",
              "    [theme=dark] .colab-df-convert:hover {\n",
              "      background-color: #434B5C;\n",
              "      box-shadow: 0px 1px 3px 1px rgba(0, 0, 0, 0.15);\n",
              "      filter: drop-shadow(0px 1px 2px rgba(0, 0, 0, 0.3));\n",
              "      fill: #FFFFFF;\n",
              "    }\n",
              "  </style>\n",
              "\n",
              "      <script>\n",
              "        const buttonEl =\n",
              "          document.querySelector('#df-b518a7e2-02db-421b-8e88-717664f99db7 button.colab-df-convert');\n",
              "        buttonEl.style.display =\n",
              "          google.colab.kernel.accessAllowed ? 'block' : 'none';\n",
              "\n",
              "        async function convertToInteractive(key) {\n",
              "          const element = document.querySelector('#df-b518a7e2-02db-421b-8e88-717664f99db7');\n",
              "          const dataTable =\n",
              "            await google.colab.kernel.invokeFunction('convertToInteractive',\n",
              "                                                     [key], {});\n",
              "          if (!dataTable) return;\n",
              "\n",
              "          const docLinkHtml = 'Like what you see? Visit the ' +\n",
              "            '<a target=\"_blank\" href=https://colab.research.google.com/notebooks/data_table.ipynb>data table notebook</a>'\n",
              "            + ' to learn more about interactive tables.';\n",
              "          element.innerHTML = '';\n",
              "          dataTable['output_type'] = 'display_data';\n",
              "          await google.colab.output.renderOutput(dataTable, element);\n",
              "          const docLink = document.createElement('div');\n",
              "          docLink.innerHTML = docLinkHtml;\n",
              "          element.appendChild(docLink);\n",
              "        }\n",
              "      </script>\n",
              "    </div>\n",
              "  </div>\n",
              "  "
            ]
          },
          "metadata": {},
          "execution_count": 22
        }
      ]
    },
    {
      "cell_type": "code",
      "source": [
        "sns.set(style=\"ticks\", context=\"talk\")\n",
        "plt.style.use(\"dark_background\")\n",
        "\n",
        "file = \"https://raw.githubusercontent.com/ArikAckerman/dashboard/main/65.csv\"\n",
        "data65 = pd.read_csv(file, sep=';')\n",
        "\n",
        "print(data65)\n",
        "\n",
        "N65 = len(data65)\n",
        "\n",
        "age65 = data65['Age']\n",
        "result65 = data65['Rate']\n",
        "year65 = data65['Year']\n",
        "\n",
        "print('Literacy Min:', result65.min())\n",
        "print('Literacy Max:', result65.max())\n",
        "print('Literacy Std:', result65.std())\n",
        "print('Literacy Mean:', result65.mean())\n",
        "print('Literacy Dispersion:', result65.var())\n",
        "print('Literacy Assimetry:', result65.skew())\n",
        "sum1 = 0\n",
        "for i in range(0,N65):\n",
        "  sum1 += (result65[i]-result65.mean())**4-3\n",
        "Kurtosis65 =(N65/(N65-1)**2*result65.std()**4)*sum1\n",
        "print('Literacy Kurtosis:', Kurtosis65, end='\\n')\n",
        "data65"
      ],
      "metadata": {
        "colab": {
          "base_uri": "https://localhost:8080/",
          "height": 788
        },
        "id": "zPzwAPnHbbS6",
        "outputId": "fc1ce308-9cc1-46a3-be8b-35bafc12d444"
      },
      "execution_count": null,
      "outputs": [
        {
          "output_type": "stream",
          "name": "stdout",
          "text": [
            "         Country  Year  Age     Sex    Rate\n",
            "0    Afghanistan  2012  65+  female  0.7783\n",
            "1    Afghanistan  2012  65+    male  0.7937\n",
            "2        Albania  2012  65+  female  0.9900\n",
            "3        Albania  2012  65+    male  0.9840\n",
            "4        Algeria  2012  65+  female  0.9209\n",
            "..           ...   ...  ...     ...     ...\n",
            "158      Uruguay  2012  65+    male  0.4167\n",
            "159     Viet Nam  2012  65+  female  0.2430\n",
            "160     Viet Nam  2012  65+    male  0.2597\n",
            "161       Zambia  2012  65+  female  0.5796\n",
            "162       Zambia  2012  65+    male  0.4358\n",
            "\n",
            "[163 rows x 5 columns]\n",
            "Literacy Min: 0.0314\n",
            "Literacy Max: 1.0\n",
            "Literacy Std: 0.25161729289612583\n",
            "Literacy Mean: 0.7780674846625767\n",
            "Literacy Dispersion: 0.06331126208437476\n",
            "Literacy Assimetry: -1.1438746164631641\n",
            "Literacy Kurtosis: -0.012122652444544834\n"
          ]
        },
        {
          "output_type": "execute_result",
          "data": {
            "text/plain": [
              "         Country  Year  Age     Sex    Rate\n",
              "0    Afghanistan  2012  65+  female  0.7783\n",
              "1    Afghanistan  2012  65+    male  0.7937\n",
              "2        Albania  2012  65+  female  0.9900\n",
              "3        Albania  2012  65+    male  0.9840\n",
              "4        Algeria  2012  65+  female  0.9209\n",
              "..           ...   ...  ...     ...     ...\n",
              "158      Uruguay  2012  65+    male  0.4167\n",
              "159     Viet Nam  2012  65+  female  0.2430\n",
              "160     Viet Nam  2012  65+    male  0.2597\n",
              "161       Zambia  2012  65+  female  0.5796\n",
              "162       Zambia  2012  65+    male  0.4358\n",
              "\n",
              "[163 rows x 5 columns]"
            ],
            "text/html": [
              "\n",
              "  <div id=\"df-b27af597-cdf1-4c6c-bc36-12516c7b00b0\">\n",
              "    <div class=\"colab-df-container\">\n",
              "      <div>\n",
              "<style scoped>\n",
              "    .dataframe tbody tr th:only-of-type {\n",
              "        vertical-align: middle;\n",
              "    }\n",
              "\n",
              "    .dataframe tbody tr th {\n",
              "        vertical-align: top;\n",
              "    }\n",
              "\n",
              "    .dataframe thead th {\n",
              "        text-align: right;\n",
              "    }\n",
              "</style>\n",
              "<table border=\"1\" class=\"dataframe\">\n",
              "  <thead>\n",
              "    <tr style=\"text-align: right;\">\n",
              "      <th></th>\n",
              "      <th>Country</th>\n",
              "      <th>Year</th>\n",
              "      <th>Age</th>\n",
              "      <th>Sex</th>\n",
              "      <th>Rate</th>\n",
              "    </tr>\n",
              "  </thead>\n",
              "  <tbody>\n",
              "    <tr>\n",
              "      <th>0</th>\n",
              "      <td>Afghanistan</td>\n",
              "      <td>2012</td>\n",
              "      <td>65+</td>\n",
              "      <td>female</td>\n",
              "      <td>0.7783</td>\n",
              "    </tr>\n",
              "    <tr>\n",
              "      <th>1</th>\n",
              "      <td>Afghanistan</td>\n",
              "      <td>2012</td>\n",
              "      <td>65+</td>\n",
              "      <td>male</td>\n",
              "      <td>0.7937</td>\n",
              "    </tr>\n",
              "    <tr>\n",
              "      <th>2</th>\n",
              "      <td>Albania</td>\n",
              "      <td>2012</td>\n",
              "      <td>65+</td>\n",
              "      <td>female</td>\n",
              "      <td>0.9900</td>\n",
              "    </tr>\n",
              "    <tr>\n",
              "      <th>3</th>\n",
              "      <td>Albania</td>\n",
              "      <td>2012</td>\n",
              "      <td>65+</td>\n",
              "      <td>male</td>\n",
              "      <td>0.9840</td>\n",
              "    </tr>\n",
              "    <tr>\n",
              "      <th>4</th>\n",
              "      <td>Algeria</td>\n",
              "      <td>2012</td>\n",
              "      <td>65+</td>\n",
              "      <td>female</td>\n",
              "      <td>0.9209</td>\n",
              "    </tr>\n",
              "    <tr>\n",
              "      <th>...</th>\n",
              "      <td>...</td>\n",
              "      <td>...</td>\n",
              "      <td>...</td>\n",
              "      <td>...</td>\n",
              "      <td>...</td>\n",
              "    </tr>\n",
              "    <tr>\n",
              "      <th>158</th>\n",
              "      <td>Uruguay</td>\n",
              "      <td>2012</td>\n",
              "      <td>65+</td>\n",
              "      <td>male</td>\n",
              "      <td>0.4167</td>\n",
              "    </tr>\n",
              "    <tr>\n",
              "      <th>159</th>\n",
              "      <td>Viet Nam</td>\n",
              "      <td>2012</td>\n",
              "      <td>65+</td>\n",
              "      <td>female</td>\n",
              "      <td>0.2430</td>\n",
              "    </tr>\n",
              "    <tr>\n",
              "      <th>160</th>\n",
              "      <td>Viet Nam</td>\n",
              "      <td>2012</td>\n",
              "      <td>65+</td>\n",
              "      <td>male</td>\n",
              "      <td>0.2597</td>\n",
              "    </tr>\n",
              "    <tr>\n",
              "      <th>161</th>\n",
              "      <td>Zambia</td>\n",
              "      <td>2012</td>\n",
              "      <td>65+</td>\n",
              "      <td>female</td>\n",
              "      <td>0.5796</td>\n",
              "    </tr>\n",
              "    <tr>\n",
              "      <th>162</th>\n",
              "      <td>Zambia</td>\n",
              "      <td>2012</td>\n",
              "      <td>65+</td>\n",
              "      <td>male</td>\n",
              "      <td>0.4358</td>\n",
              "    </tr>\n",
              "  </tbody>\n",
              "</table>\n",
              "<p>163 rows × 5 columns</p>\n",
              "</div>\n",
              "      <button class=\"colab-df-convert\" onclick=\"convertToInteractive('df-b27af597-cdf1-4c6c-bc36-12516c7b00b0')\"\n",
              "              title=\"Convert this dataframe to an interactive table.\"\n",
              "              style=\"display:none;\">\n",
              "        \n",
              "  <svg xmlns=\"http://www.w3.org/2000/svg\" height=\"24px\"viewBox=\"0 0 24 24\"\n",
              "       width=\"24px\">\n",
              "    <path d=\"M0 0h24v24H0V0z\" fill=\"none\"/>\n",
              "    <path d=\"M18.56 5.44l.94 2.06.94-2.06 2.06-.94-2.06-.94-.94-2.06-.94 2.06-2.06.94zm-11 1L8.5 8.5l.94-2.06 2.06-.94-2.06-.94L8.5 2.5l-.94 2.06-2.06.94zm10 10l.94 2.06.94-2.06 2.06-.94-2.06-.94-.94-2.06-.94 2.06-2.06.94z\"/><path d=\"M17.41 7.96l-1.37-1.37c-.4-.4-.92-.59-1.43-.59-.52 0-1.04.2-1.43.59L10.3 9.45l-7.72 7.72c-.78.78-.78 2.05 0 2.83L4 21.41c.39.39.9.59 1.41.59.51 0 1.02-.2 1.41-.59l7.78-7.78 2.81-2.81c.8-.78.8-2.07 0-2.86zM5.41 20L4 18.59l7.72-7.72 1.47 1.35L5.41 20z\"/>\n",
              "  </svg>\n",
              "      </button>\n",
              "      \n",
              "  <style>\n",
              "    .colab-df-container {\n",
              "      display:flex;\n",
              "      flex-wrap:wrap;\n",
              "      gap: 12px;\n",
              "    }\n",
              "\n",
              "    .colab-df-convert {\n",
              "      background-color: #E8F0FE;\n",
              "      border: none;\n",
              "      border-radius: 50%;\n",
              "      cursor: pointer;\n",
              "      display: none;\n",
              "      fill: #1967D2;\n",
              "      height: 32px;\n",
              "      padding: 0 0 0 0;\n",
              "      width: 32px;\n",
              "    }\n",
              "\n",
              "    .colab-df-convert:hover {\n",
              "      background-color: #E2EBFA;\n",
              "      box-shadow: 0px 1px 2px rgba(60, 64, 67, 0.3), 0px 1px 3px 1px rgba(60, 64, 67, 0.15);\n",
              "      fill: #174EA6;\n",
              "    }\n",
              "\n",
              "    [theme=dark] .colab-df-convert {\n",
              "      background-color: #3B4455;\n",
              "      fill: #D2E3FC;\n",
              "    }\n",
              "\n",
              "    [theme=dark] .colab-df-convert:hover {\n",
              "      background-color: #434B5C;\n",
              "      box-shadow: 0px 1px 3px 1px rgba(0, 0, 0, 0.15);\n",
              "      filter: drop-shadow(0px 1px 2px rgba(0, 0, 0, 0.3));\n",
              "      fill: #FFFFFF;\n",
              "    }\n",
              "  </style>\n",
              "\n",
              "      <script>\n",
              "        const buttonEl =\n",
              "          document.querySelector('#df-b27af597-cdf1-4c6c-bc36-12516c7b00b0 button.colab-df-convert');\n",
              "        buttonEl.style.display =\n",
              "          google.colab.kernel.accessAllowed ? 'block' : 'none';\n",
              "\n",
              "        async function convertToInteractive(key) {\n",
              "          const element = document.querySelector('#df-b27af597-cdf1-4c6c-bc36-12516c7b00b0');\n",
              "          const dataTable =\n",
              "            await google.colab.kernel.invokeFunction('convertToInteractive',\n",
              "                                                     [key], {});\n",
              "          if (!dataTable) return;\n",
              "\n",
              "          const docLinkHtml = 'Like what you see? Visit the ' +\n",
              "            '<a target=\"_blank\" href=https://colab.research.google.com/notebooks/data_table.ipynb>data table notebook</a>'\n",
              "            + ' to learn more about interactive tables.';\n",
              "          element.innerHTML = '';\n",
              "          dataTable['output_type'] = 'display_data';\n",
              "          await google.colab.output.renderOutput(dataTable, element);\n",
              "          const docLink = document.createElement('div');\n",
              "          docLink.innerHTML = docLinkHtml;\n",
              "          element.appendChild(docLink);\n",
              "        }\n",
              "      </script>\n",
              "    </div>\n",
              "  </div>\n",
              "  "
            ]
          },
          "metadata": {},
          "execution_count": 21
        }
      ]
    },
    {
      "cell_type": "code",
      "source": [
        "sns.set(style=\"ticks\", context=\"talk\")\n",
        "plt.style.use(\"dark_background\")\n",
        "\n",
        "file = \"https://raw.githubusercontent.com/ArikAckerman/dashboard/main/15.2018.csv\"\n",
        "data1815 = pd.read_csv(file, sep=';')\n",
        "\n",
        "print(data1815)\n",
        "\n",
        "N1815 = len(data1815)\n",
        "\n",
        "age1815 = data1815['Age']\n",
        "result1815 = data1815['Rate']\n",
        "year1815 = data1815['Year']\n",
        "\n",
        "print('Literacy Min:', result1815.min())\n",
        "print('Literacy Max:', result1815.max())\n",
        "print('Literacy Std:', result1815.std())\n",
        "print('Literacy Mean:', result1815.mean())\n",
        "print('Literacy Dispersion:', result1815.var())\n",
        "print('Literacy Assimetry:', result1815.skew())\n",
        "sum1 = 0\n",
        "for i in range(0,N1815):\n",
        "  sum1 += (result1815[i]-result1815.mean())**4-3\n",
        "Kurtosis1815 =(N1815/(N1815-1)**2*result15.std()**4)*sum1\n",
        "print('Literacy Kurtosis:', Kurtosis1815, end='\\n')\n",
        "data1815"
      ],
      "metadata": {
        "id": "p0fqKVj7cGOp",
        "colab": {
          "base_uri": "https://localhost:8080/",
          "height": 788
        },
        "outputId": "f6530fac-2b41-49f2-ab7b-4920fa755bc0"
      },
      "execution_count": null,
      "outputs": [
        {
          "output_type": "stream",
          "name": "stdout",
          "text": [
            "         Country  Year  Age     Sex    Rate\n",
            "0    Afghanistan  2018  15+  female  0.9725\n",
            "1    Afghanistan  2018  15+    male  0.9976\n",
            "2        Albania  2018  15+  female  0.9920\n",
            "3        Albania  2018  15+    male  0.9239\n",
            "4        Algeria  2018  15+  female  0.9978\n",
            "..           ...   ...  ...     ...     ...\n",
            "171      Vanuatu  2018  15+    male  0.9771\n",
            "172     Viet Nam  2018  15+  female  0.9713\n",
            "173     Viet Nam  2018  15+    male  0.4316\n",
            "174       Zambia  2018  15+  female  0.6591\n",
            "175       Zambia  2018  15+    male  0.9976\n",
            "\n",
            "[176 rows x 5 columns]\n",
            "Literacy Min: 0.0639\n",
            "Literacy Max: 1.0\n",
            "Literacy Std: 0.22589941396746507\n",
            "Literacy Mean: 0.8400448863636363\n",
            "Literacy Dispersion: 0.05103054523084416\n",
            "Literacy Assimetry: -1.7205492019186928\n",
            "Literacy Kurtosis: -0.009333359643470976\n"
          ]
        },
        {
          "output_type": "execute_result",
          "data": {
            "text/plain": [
              "         Country  Year  Age     Sex    Rate\n",
              "0    Afghanistan  2018  15+  female  0.9725\n",
              "1    Afghanistan  2018  15+    male  0.9976\n",
              "2        Albania  2018  15+  female  0.9920\n",
              "3        Albania  2018  15+    male  0.9239\n",
              "4        Algeria  2018  15+  female  0.9978\n",
              "..           ...   ...  ...     ...     ...\n",
              "171      Vanuatu  2018  15+    male  0.9771\n",
              "172     Viet Nam  2018  15+  female  0.9713\n",
              "173     Viet Nam  2018  15+    male  0.4316\n",
              "174       Zambia  2018  15+  female  0.6591\n",
              "175       Zambia  2018  15+    male  0.9976\n",
              "\n",
              "[176 rows x 5 columns]"
            ],
            "text/html": [
              "\n",
              "  <div id=\"df-9bf69ee3-6aca-45c6-9248-f444cdbd6b68\">\n",
              "    <div class=\"colab-df-container\">\n",
              "      <div>\n",
              "<style scoped>\n",
              "    .dataframe tbody tr th:only-of-type {\n",
              "        vertical-align: middle;\n",
              "    }\n",
              "\n",
              "    .dataframe tbody tr th {\n",
              "        vertical-align: top;\n",
              "    }\n",
              "\n",
              "    .dataframe thead th {\n",
              "        text-align: right;\n",
              "    }\n",
              "</style>\n",
              "<table border=\"1\" class=\"dataframe\">\n",
              "  <thead>\n",
              "    <tr style=\"text-align: right;\">\n",
              "      <th></th>\n",
              "      <th>Country</th>\n",
              "      <th>Year</th>\n",
              "      <th>Age</th>\n",
              "      <th>Sex</th>\n",
              "      <th>Rate</th>\n",
              "    </tr>\n",
              "  </thead>\n",
              "  <tbody>\n",
              "    <tr>\n",
              "      <th>0</th>\n",
              "      <td>Afghanistan</td>\n",
              "      <td>2018</td>\n",
              "      <td>15+</td>\n",
              "      <td>female</td>\n",
              "      <td>0.9725</td>\n",
              "    </tr>\n",
              "    <tr>\n",
              "      <th>1</th>\n",
              "      <td>Afghanistan</td>\n",
              "      <td>2018</td>\n",
              "      <td>15+</td>\n",
              "      <td>male</td>\n",
              "      <td>0.9976</td>\n",
              "    </tr>\n",
              "    <tr>\n",
              "      <th>2</th>\n",
              "      <td>Albania</td>\n",
              "      <td>2018</td>\n",
              "      <td>15+</td>\n",
              "      <td>female</td>\n",
              "      <td>0.9920</td>\n",
              "    </tr>\n",
              "    <tr>\n",
              "      <th>3</th>\n",
              "      <td>Albania</td>\n",
              "      <td>2018</td>\n",
              "      <td>15+</td>\n",
              "      <td>male</td>\n",
              "      <td>0.9239</td>\n",
              "    </tr>\n",
              "    <tr>\n",
              "      <th>4</th>\n",
              "      <td>Algeria</td>\n",
              "      <td>2018</td>\n",
              "      <td>15+</td>\n",
              "      <td>female</td>\n",
              "      <td>0.9978</td>\n",
              "    </tr>\n",
              "    <tr>\n",
              "      <th>...</th>\n",
              "      <td>...</td>\n",
              "      <td>...</td>\n",
              "      <td>...</td>\n",
              "      <td>...</td>\n",
              "      <td>...</td>\n",
              "    </tr>\n",
              "    <tr>\n",
              "      <th>171</th>\n",
              "      <td>Vanuatu</td>\n",
              "      <td>2018</td>\n",
              "      <td>15+</td>\n",
              "      <td>male</td>\n",
              "      <td>0.9771</td>\n",
              "    </tr>\n",
              "    <tr>\n",
              "      <th>172</th>\n",
              "      <td>Viet Nam</td>\n",
              "      <td>2018</td>\n",
              "      <td>15+</td>\n",
              "      <td>female</td>\n",
              "      <td>0.9713</td>\n",
              "    </tr>\n",
              "    <tr>\n",
              "      <th>173</th>\n",
              "      <td>Viet Nam</td>\n",
              "      <td>2018</td>\n",
              "      <td>15+</td>\n",
              "      <td>male</td>\n",
              "      <td>0.4316</td>\n",
              "    </tr>\n",
              "    <tr>\n",
              "      <th>174</th>\n",
              "      <td>Zambia</td>\n",
              "      <td>2018</td>\n",
              "      <td>15+</td>\n",
              "      <td>female</td>\n",
              "      <td>0.6591</td>\n",
              "    </tr>\n",
              "    <tr>\n",
              "      <th>175</th>\n",
              "      <td>Zambia</td>\n",
              "      <td>2018</td>\n",
              "      <td>15+</td>\n",
              "      <td>male</td>\n",
              "      <td>0.9976</td>\n",
              "    </tr>\n",
              "  </tbody>\n",
              "</table>\n",
              "<p>176 rows × 5 columns</p>\n",
              "</div>\n",
              "      <button class=\"colab-df-convert\" onclick=\"convertToInteractive('df-9bf69ee3-6aca-45c6-9248-f444cdbd6b68')\"\n",
              "              title=\"Convert this dataframe to an interactive table.\"\n",
              "              style=\"display:none;\">\n",
              "        \n",
              "  <svg xmlns=\"http://www.w3.org/2000/svg\" height=\"24px\"viewBox=\"0 0 24 24\"\n",
              "       width=\"24px\">\n",
              "    <path d=\"M0 0h24v24H0V0z\" fill=\"none\"/>\n",
              "    <path d=\"M18.56 5.44l.94 2.06.94-2.06 2.06-.94-2.06-.94-.94-2.06-.94 2.06-2.06.94zm-11 1L8.5 8.5l.94-2.06 2.06-.94-2.06-.94L8.5 2.5l-.94 2.06-2.06.94zm10 10l.94 2.06.94-2.06 2.06-.94-2.06-.94-.94-2.06-.94 2.06-2.06.94z\"/><path d=\"M17.41 7.96l-1.37-1.37c-.4-.4-.92-.59-1.43-.59-.52 0-1.04.2-1.43.59L10.3 9.45l-7.72 7.72c-.78.78-.78 2.05 0 2.83L4 21.41c.39.39.9.59 1.41.59.51 0 1.02-.2 1.41-.59l7.78-7.78 2.81-2.81c.8-.78.8-2.07 0-2.86zM5.41 20L4 18.59l7.72-7.72 1.47 1.35L5.41 20z\"/>\n",
              "  </svg>\n",
              "      </button>\n",
              "      \n",
              "  <style>\n",
              "    .colab-df-container {\n",
              "      display:flex;\n",
              "      flex-wrap:wrap;\n",
              "      gap: 12px;\n",
              "    }\n",
              "\n",
              "    .colab-df-convert {\n",
              "      background-color: #E8F0FE;\n",
              "      border: none;\n",
              "      border-radius: 50%;\n",
              "      cursor: pointer;\n",
              "      display: none;\n",
              "      fill: #1967D2;\n",
              "      height: 32px;\n",
              "      padding: 0 0 0 0;\n",
              "      width: 32px;\n",
              "    }\n",
              "\n",
              "    .colab-df-convert:hover {\n",
              "      background-color: #E2EBFA;\n",
              "      box-shadow: 0px 1px 2px rgba(60, 64, 67, 0.3), 0px 1px 3px 1px rgba(60, 64, 67, 0.15);\n",
              "      fill: #174EA6;\n",
              "    }\n",
              "\n",
              "    [theme=dark] .colab-df-convert {\n",
              "      background-color: #3B4455;\n",
              "      fill: #D2E3FC;\n",
              "    }\n",
              "\n",
              "    [theme=dark] .colab-df-convert:hover {\n",
              "      background-color: #434B5C;\n",
              "      box-shadow: 0px 1px 3px 1px rgba(0, 0, 0, 0.15);\n",
              "      filter: drop-shadow(0px 1px 2px rgba(0, 0, 0, 0.3));\n",
              "      fill: #FFFFFF;\n",
              "    }\n",
              "  </style>\n",
              "\n",
              "      <script>\n",
              "        const buttonEl =\n",
              "          document.querySelector('#df-9bf69ee3-6aca-45c6-9248-f444cdbd6b68 button.colab-df-convert');\n",
              "        buttonEl.style.display =\n",
              "          google.colab.kernel.accessAllowed ? 'block' : 'none';\n",
              "\n",
              "        async function convertToInteractive(key) {\n",
              "          const element = document.querySelector('#df-9bf69ee3-6aca-45c6-9248-f444cdbd6b68');\n",
              "          const dataTable =\n",
              "            await google.colab.kernel.invokeFunction('convertToInteractive',\n",
              "                                                     [key], {});\n",
              "          if (!dataTable) return;\n",
              "\n",
              "          const docLinkHtml = 'Like what you see? Visit the ' +\n",
              "            '<a target=\"_blank\" href=https://colab.research.google.com/notebooks/data_table.ipynb>data table notebook</a>'\n",
              "            + ' to learn more about interactive tables.';\n",
              "          element.innerHTML = '';\n",
              "          dataTable['output_type'] = 'display_data';\n",
              "          await google.colab.output.renderOutput(dataTable, element);\n",
              "          const docLink = document.createElement('div');\n",
              "          docLink.innerHTML = docLinkHtml;\n",
              "          element.appendChild(docLink);\n",
              "        }\n",
              "      </script>\n",
              "    </div>\n",
              "  </div>\n",
              "  "
            ]
          },
          "metadata": {},
          "execution_count": 28
        }
      ]
    },
    {
      "cell_type": "code",
      "source": [
        "sns.set(style=\"ticks\", context=\"talk\")\n",
        "plt.style.use(\"dark_background\")\n",
        "\n",
        "file = \"https://raw.githubusercontent.com/ArikAckerman/dashboard/main/15-24.2018.csv\"\n",
        "data1824 = pd.read_csv(file, sep=';')\n",
        "\n",
        "print(data1824)\n",
        "\n",
        "N1824 = len(data1824)\n",
        "\n",
        "age1824 = data1824['Age']\n",
        "result1824 = data1824['Rate']\n",
        "year1824 = data1824['Year']\n",
        "\n",
        "print('Literacy Min:', result1824.min())\n",
        "print('Literacy Max:', result1824.max())\n",
        "print('Literacy Std:', result1824.std())\n",
        "print('Literacy Mean:', result1824.mean())\n",
        "print('Literacy Dispersion:', result1824.var())\n",
        "print('Literacy Assimetry:', result1824.skew())\n",
        "for i in range(0,N1824):\n",
        "  sum1 += (result1824[i]-result1824.mean())**4-3\n",
        "Kurtosis1824 =(N1824/(N1824-1)**2*result24.std()**4)*sum1\n",
        "print('Literacy Kurtosis:', Kurtosis1824, end='\\n')\n",
        "data1824"
      ],
      "metadata": {
        "colab": {
          "base_uri": "https://localhost:8080/",
          "height": 788
        },
        "id": "cjrK8gx2f-9C",
        "outputId": "e635a9a9-6a71-41f1-817d-050461ce6847"
      },
      "execution_count": null,
      "outputs": [
        {
          "output_type": "stream",
          "name": "stdout",
          "text": [
            "         Country  Year    Age     Sex    Rate\n",
            "0    Afghanistan  2018  15-24  female  0.5625\n",
            "1    Afghanistan  2018  15-24    male  0.9963\n",
            "2        Albania  2018  15-24  female  0.9987\n",
            "3        Albania  2018  15-24    male  0.5194\n",
            "4        Algeria  2018  15-24  female  0.8241\n",
            "..           ...   ...    ...     ...     ...\n",
            "171      Vanuatu  2018  15-24    male  0.9905\n",
            "172     Viet Nam  2018  15-24  female  0.0971\n",
            "173     Viet Nam  2018  15-24    male  0.1734\n",
            "174       Zambia  2018  15-24  female  0.6970\n",
            "175       Zambia  2018  15-24    male  0.9685\n",
            "\n",
            "[176 rows x 5 columns]\n",
            "Literacy Min: 0.0072\n",
            "Literacy Max: 0.9994\n",
            "Literacy Std: 0.27417205340771916\n",
            "Literacy Mean: 0.7498835227272728\n",
            "Literacy Dispersion: 0.0751703148698052\n",
            "Literacy Assimetry: -1.0102207341383558\n",
            "Literacy Kurtosis: -0.017004744646935605\n"
          ]
        },
        {
          "output_type": "execute_result",
          "data": {
            "text/plain": [
              "         Country  Year    Age     Sex    Rate\n",
              "0    Afghanistan  2018  15-24  female  0.5625\n",
              "1    Afghanistan  2018  15-24    male  0.9963\n",
              "2        Albania  2018  15-24  female  0.9987\n",
              "3        Albania  2018  15-24    male  0.5194\n",
              "4        Algeria  2018  15-24  female  0.8241\n",
              "..           ...   ...    ...     ...     ...\n",
              "171      Vanuatu  2018  15-24    male  0.9905\n",
              "172     Viet Nam  2018  15-24  female  0.0971\n",
              "173     Viet Nam  2018  15-24    male  0.1734\n",
              "174       Zambia  2018  15-24  female  0.6970\n",
              "175       Zambia  2018  15-24    male  0.9685\n",
              "\n",
              "[176 rows x 5 columns]"
            ],
            "text/html": [
              "\n",
              "  <div id=\"df-7d8ec3ef-9010-4395-a309-0f5810607062\">\n",
              "    <div class=\"colab-df-container\">\n",
              "      <div>\n",
              "<style scoped>\n",
              "    .dataframe tbody tr th:only-of-type {\n",
              "        vertical-align: middle;\n",
              "    }\n",
              "\n",
              "    .dataframe tbody tr th {\n",
              "        vertical-align: top;\n",
              "    }\n",
              "\n",
              "    .dataframe thead th {\n",
              "        text-align: right;\n",
              "    }\n",
              "</style>\n",
              "<table border=\"1\" class=\"dataframe\">\n",
              "  <thead>\n",
              "    <tr style=\"text-align: right;\">\n",
              "      <th></th>\n",
              "      <th>Country</th>\n",
              "      <th>Year</th>\n",
              "      <th>Age</th>\n",
              "      <th>Sex</th>\n",
              "      <th>Rate</th>\n",
              "    </tr>\n",
              "  </thead>\n",
              "  <tbody>\n",
              "    <tr>\n",
              "      <th>0</th>\n",
              "      <td>Afghanistan</td>\n",
              "      <td>2018</td>\n",
              "      <td>15-24</td>\n",
              "      <td>female</td>\n",
              "      <td>0.5625</td>\n",
              "    </tr>\n",
              "    <tr>\n",
              "      <th>1</th>\n",
              "      <td>Afghanistan</td>\n",
              "      <td>2018</td>\n",
              "      <td>15-24</td>\n",
              "      <td>male</td>\n",
              "      <td>0.9963</td>\n",
              "    </tr>\n",
              "    <tr>\n",
              "      <th>2</th>\n",
              "      <td>Albania</td>\n",
              "      <td>2018</td>\n",
              "      <td>15-24</td>\n",
              "      <td>female</td>\n",
              "      <td>0.9987</td>\n",
              "    </tr>\n",
              "    <tr>\n",
              "      <th>3</th>\n",
              "      <td>Albania</td>\n",
              "      <td>2018</td>\n",
              "      <td>15-24</td>\n",
              "      <td>male</td>\n",
              "      <td>0.5194</td>\n",
              "    </tr>\n",
              "    <tr>\n",
              "      <th>4</th>\n",
              "      <td>Algeria</td>\n",
              "      <td>2018</td>\n",
              "      <td>15-24</td>\n",
              "      <td>female</td>\n",
              "      <td>0.8241</td>\n",
              "    </tr>\n",
              "    <tr>\n",
              "      <th>...</th>\n",
              "      <td>...</td>\n",
              "      <td>...</td>\n",
              "      <td>...</td>\n",
              "      <td>...</td>\n",
              "      <td>...</td>\n",
              "    </tr>\n",
              "    <tr>\n",
              "      <th>171</th>\n",
              "      <td>Vanuatu</td>\n",
              "      <td>2018</td>\n",
              "      <td>15-24</td>\n",
              "      <td>male</td>\n",
              "      <td>0.9905</td>\n",
              "    </tr>\n",
              "    <tr>\n",
              "      <th>172</th>\n",
              "      <td>Viet Nam</td>\n",
              "      <td>2018</td>\n",
              "      <td>15-24</td>\n",
              "      <td>female</td>\n",
              "      <td>0.0971</td>\n",
              "    </tr>\n",
              "    <tr>\n",
              "      <th>173</th>\n",
              "      <td>Viet Nam</td>\n",
              "      <td>2018</td>\n",
              "      <td>15-24</td>\n",
              "      <td>male</td>\n",
              "      <td>0.1734</td>\n",
              "    </tr>\n",
              "    <tr>\n",
              "      <th>174</th>\n",
              "      <td>Zambia</td>\n",
              "      <td>2018</td>\n",
              "      <td>15-24</td>\n",
              "      <td>female</td>\n",
              "      <td>0.6970</td>\n",
              "    </tr>\n",
              "    <tr>\n",
              "      <th>175</th>\n",
              "      <td>Zambia</td>\n",
              "      <td>2018</td>\n",
              "      <td>15-24</td>\n",
              "      <td>male</td>\n",
              "      <td>0.9685</td>\n",
              "    </tr>\n",
              "  </tbody>\n",
              "</table>\n",
              "<p>176 rows × 5 columns</p>\n",
              "</div>\n",
              "      <button class=\"colab-df-convert\" onclick=\"convertToInteractive('df-7d8ec3ef-9010-4395-a309-0f5810607062')\"\n",
              "              title=\"Convert this dataframe to an interactive table.\"\n",
              "              style=\"display:none;\">\n",
              "        \n",
              "  <svg xmlns=\"http://www.w3.org/2000/svg\" height=\"24px\"viewBox=\"0 0 24 24\"\n",
              "       width=\"24px\">\n",
              "    <path d=\"M0 0h24v24H0V0z\" fill=\"none\"/>\n",
              "    <path d=\"M18.56 5.44l.94 2.06.94-2.06 2.06-.94-2.06-.94-.94-2.06-.94 2.06-2.06.94zm-11 1L8.5 8.5l.94-2.06 2.06-.94-2.06-.94L8.5 2.5l-.94 2.06-2.06.94zm10 10l.94 2.06.94-2.06 2.06-.94-2.06-.94-.94-2.06-.94 2.06-2.06.94z\"/><path d=\"M17.41 7.96l-1.37-1.37c-.4-.4-.92-.59-1.43-.59-.52 0-1.04.2-1.43.59L10.3 9.45l-7.72 7.72c-.78.78-.78 2.05 0 2.83L4 21.41c.39.39.9.59 1.41.59.51 0 1.02-.2 1.41-.59l7.78-7.78 2.81-2.81c.8-.78.8-2.07 0-2.86zM5.41 20L4 18.59l7.72-7.72 1.47 1.35L5.41 20z\"/>\n",
              "  </svg>\n",
              "      </button>\n",
              "      \n",
              "  <style>\n",
              "    .colab-df-container {\n",
              "      display:flex;\n",
              "      flex-wrap:wrap;\n",
              "      gap: 12px;\n",
              "    }\n",
              "\n",
              "    .colab-df-convert {\n",
              "      background-color: #E8F0FE;\n",
              "      border: none;\n",
              "      border-radius: 50%;\n",
              "      cursor: pointer;\n",
              "      display: none;\n",
              "      fill: #1967D2;\n",
              "      height: 32px;\n",
              "      padding: 0 0 0 0;\n",
              "      width: 32px;\n",
              "    }\n",
              "\n",
              "    .colab-df-convert:hover {\n",
              "      background-color: #E2EBFA;\n",
              "      box-shadow: 0px 1px 2px rgba(60, 64, 67, 0.3), 0px 1px 3px 1px rgba(60, 64, 67, 0.15);\n",
              "      fill: #174EA6;\n",
              "    }\n",
              "\n",
              "    [theme=dark] .colab-df-convert {\n",
              "      background-color: #3B4455;\n",
              "      fill: #D2E3FC;\n",
              "    }\n",
              "\n",
              "    [theme=dark] .colab-df-convert:hover {\n",
              "      background-color: #434B5C;\n",
              "      box-shadow: 0px 1px 3px 1px rgba(0, 0, 0, 0.15);\n",
              "      filter: drop-shadow(0px 1px 2px rgba(0, 0, 0, 0.3));\n",
              "      fill: #FFFFFF;\n",
              "    }\n",
              "  </style>\n",
              "\n",
              "      <script>\n",
              "        const buttonEl =\n",
              "          document.querySelector('#df-7d8ec3ef-9010-4395-a309-0f5810607062 button.colab-df-convert');\n",
              "        buttonEl.style.display =\n",
              "          google.colab.kernel.accessAllowed ? 'block' : 'none';\n",
              "\n",
              "        async function convertToInteractive(key) {\n",
              "          const element = document.querySelector('#df-7d8ec3ef-9010-4395-a309-0f5810607062');\n",
              "          const dataTable =\n",
              "            await google.colab.kernel.invokeFunction('convertToInteractive',\n",
              "                                                     [key], {});\n",
              "          if (!dataTable) return;\n",
              "\n",
              "          const docLinkHtml = 'Like what you see? Visit the ' +\n",
              "            '<a target=\"_blank\" href=https://colab.research.google.com/notebooks/data_table.ipynb>data table notebook</a>'\n",
              "            + ' to learn more about interactive tables.';\n",
              "          element.innerHTML = '';\n",
              "          dataTable['output_type'] = 'display_data';\n",
              "          await google.colab.output.renderOutput(dataTable, element);\n",
              "          const docLink = document.createElement('div');\n",
              "          docLink.innerHTML = docLinkHtml;\n",
              "          element.appendChild(docLink);\n",
              "        }\n",
              "      </script>\n",
              "    </div>\n",
              "  </div>\n",
              "  "
            ]
          },
          "metadata": {},
          "execution_count": 29
        }
      ]
    },
    {
      "cell_type": "code",
      "source": [
        "sns.set(style=\"ticks\", context=\"talk\")\n",
        "plt.style.use(\"dark_background\")\n",
        "\n",
        "file = \"https://raw.githubusercontent.com/ArikAckerman/dashboard/main/25-64.2018.csv\"\n",
        "data1825 = pd.read_csv(file, sep=';')\n",
        "\n",
        "print(data1825)\n",
        "\n",
        "N1825 = len(data1825)\n",
        "\n",
        "age1825 = data1825['Age']\n",
        "result1825 = data1825['Rate']\n",
        "year1825 = data1825['Year']\n",
        "\n",
        "print('Literacy Min:', result1825.min())\n",
        "print('Literacy Max:', result1825.max())\n",
        "print('Literacy Std:', result1825.std())\n",
        "print('Literacy Mean:', result1825.mean())\n",
        "print('Literacy Dispersion:', result1825.var())\n",
        "print('Literacy Assimetry:', result1825.skew(), end='\\n')\n",
        "for i in range(0,N1825):\n",
        "  sum1 += (result1825[i]-result1825.mean())**4-3\n",
        "Kurtosis1825 =(N1825/(N1825-1)**2*result25.std()**4)*sum1\n",
        "print('Literacy Kurtosis:', Kurtosis1825, end='\\n')\n",
        "data1825"
      ],
      "metadata": {
        "colab": {
          "base_uri": "https://localhost:8080/",
          "height": 788
        },
        "id": "4cr-NQHfgk6M",
        "outputId": "8a7cdcf2-be7d-4e8e-c448-b84a07a9bb8a"
      },
      "execution_count": null,
      "outputs": [
        {
          "output_type": "stream",
          "name": "stdout",
          "text": [
            "         Country  Year    Age     Sex    Rate\n",
            "0    Afghanistan  2018  25-64  female  0.9939\n",
            "1    Afghanistan  2018  25-64    male  0.9951\n",
            "2        Albania  2018  25-64  female  0.9943\n",
            "3        Albania  2018  25-64    male  0.9979\n",
            "4        Algeria  2018  25-64  female  0.7830\n",
            "..           ...   ...    ...     ...     ...\n",
            "171      Vanuatu  2018  25-64    male  0.8217\n",
            "172     Viet Nam  2018  25-64  female  0.8618\n",
            "173     Viet Nam  2018  25-64    male  0.6238\n",
            "174       Zambia  2018  25-64  female  0.9729\n",
            "175       Zambia  2018  25-64    male  0.5794\n",
            "\n",
            "[176 rows x 5 columns]\n",
            "Literacy Min: 0.0568\n",
            "Literacy Max: 1.0\n",
            "Literacy Std: 0.22890043857367504\n",
            "Literacy Mean: 0.8134204545454544\n",
            "Literacy Dispersion: 0.05239541077922078\n",
            "Literacy Assimetry: -1.5397575957677694\n",
            "Literacy Kurtosis: -0.05237688398395215\n"
          ]
        },
        {
          "output_type": "execute_result",
          "data": {
            "text/plain": [
              "         Country  Year    Age     Sex    Rate\n",
              "0    Afghanistan  2018  25-64  female  0.9939\n",
              "1    Afghanistan  2018  25-64    male  0.9951\n",
              "2        Albania  2018  25-64  female  0.9943\n",
              "3        Albania  2018  25-64    male  0.9979\n",
              "4        Algeria  2018  25-64  female  0.7830\n",
              "..           ...   ...    ...     ...     ...\n",
              "171      Vanuatu  2018  25-64    male  0.8217\n",
              "172     Viet Nam  2018  25-64  female  0.8618\n",
              "173     Viet Nam  2018  25-64    male  0.6238\n",
              "174       Zambia  2018  25-64  female  0.9729\n",
              "175       Zambia  2018  25-64    male  0.5794\n",
              "\n",
              "[176 rows x 5 columns]"
            ],
            "text/html": [
              "\n",
              "  <div id=\"df-b9d68c79-4dfd-439a-b338-545ebf39aff9\">\n",
              "    <div class=\"colab-df-container\">\n",
              "      <div>\n",
              "<style scoped>\n",
              "    .dataframe tbody tr th:only-of-type {\n",
              "        vertical-align: middle;\n",
              "    }\n",
              "\n",
              "    .dataframe tbody tr th {\n",
              "        vertical-align: top;\n",
              "    }\n",
              "\n",
              "    .dataframe thead th {\n",
              "        text-align: right;\n",
              "    }\n",
              "</style>\n",
              "<table border=\"1\" class=\"dataframe\">\n",
              "  <thead>\n",
              "    <tr style=\"text-align: right;\">\n",
              "      <th></th>\n",
              "      <th>Country</th>\n",
              "      <th>Year</th>\n",
              "      <th>Age</th>\n",
              "      <th>Sex</th>\n",
              "      <th>Rate</th>\n",
              "    </tr>\n",
              "  </thead>\n",
              "  <tbody>\n",
              "    <tr>\n",
              "      <th>0</th>\n",
              "      <td>Afghanistan</td>\n",
              "      <td>2018</td>\n",
              "      <td>25-64</td>\n",
              "      <td>female</td>\n",
              "      <td>0.9939</td>\n",
              "    </tr>\n",
              "    <tr>\n",
              "      <th>1</th>\n",
              "      <td>Afghanistan</td>\n",
              "      <td>2018</td>\n",
              "      <td>25-64</td>\n",
              "      <td>male</td>\n",
              "      <td>0.9951</td>\n",
              "    </tr>\n",
              "    <tr>\n",
              "      <th>2</th>\n",
              "      <td>Albania</td>\n",
              "      <td>2018</td>\n",
              "      <td>25-64</td>\n",
              "      <td>female</td>\n",
              "      <td>0.9943</td>\n",
              "    </tr>\n",
              "    <tr>\n",
              "      <th>3</th>\n",
              "      <td>Albania</td>\n",
              "      <td>2018</td>\n",
              "      <td>25-64</td>\n",
              "      <td>male</td>\n",
              "      <td>0.9979</td>\n",
              "    </tr>\n",
              "    <tr>\n",
              "      <th>4</th>\n",
              "      <td>Algeria</td>\n",
              "      <td>2018</td>\n",
              "      <td>25-64</td>\n",
              "      <td>female</td>\n",
              "      <td>0.7830</td>\n",
              "    </tr>\n",
              "    <tr>\n",
              "      <th>...</th>\n",
              "      <td>...</td>\n",
              "      <td>...</td>\n",
              "      <td>...</td>\n",
              "      <td>...</td>\n",
              "      <td>...</td>\n",
              "    </tr>\n",
              "    <tr>\n",
              "      <th>171</th>\n",
              "      <td>Vanuatu</td>\n",
              "      <td>2018</td>\n",
              "      <td>25-64</td>\n",
              "      <td>male</td>\n",
              "      <td>0.8217</td>\n",
              "    </tr>\n",
              "    <tr>\n",
              "      <th>172</th>\n",
              "      <td>Viet Nam</td>\n",
              "      <td>2018</td>\n",
              "      <td>25-64</td>\n",
              "      <td>female</td>\n",
              "      <td>0.8618</td>\n",
              "    </tr>\n",
              "    <tr>\n",
              "      <th>173</th>\n",
              "      <td>Viet Nam</td>\n",
              "      <td>2018</td>\n",
              "      <td>25-64</td>\n",
              "      <td>male</td>\n",
              "      <td>0.6238</td>\n",
              "    </tr>\n",
              "    <tr>\n",
              "      <th>174</th>\n",
              "      <td>Zambia</td>\n",
              "      <td>2018</td>\n",
              "      <td>25-64</td>\n",
              "      <td>female</td>\n",
              "      <td>0.9729</td>\n",
              "    </tr>\n",
              "    <tr>\n",
              "      <th>175</th>\n",
              "      <td>Zambia</td>\n",
              "      <td>2018</td>\n",
              "      <td>25-64</td>\n",
              "      <td>male</td>\n",
              "      <td>0.5794</td>\n",
              "    </tr>\n",
              "  </tbody>\n",
              "</table>\n",
              "<p>176 rows × 5 columns</p>\n",
              "</div>\n",
              "      <button class=\"colab-df-convert\" onclick=\"convertToInteractive('df-b9d68c79-4dfd-439a-b338-545ebf39aff9')\"\n",
              "              title=\"Convert this dataframe to an interactive table.\"\n",
              "              style=\"display:none;\">\n",
              "        \n",
              "  <svg xmlns=\"http://www.w3.org/2000/svg\" height=\"24px\"viewBox=\"0 0 24 24\"\n",
              "       width=\"24px\">\n",
              "    <path d=\"M0 0h24v24H0V0z\" fill=\"none\"/>\n",
              "    <path d=\"M18.56 5.44l.94 2.06.94-2.06 2.06-.94-2.06-.94-.94-2.06-.94 2.06-2.06.94zm-11 1L8.5 8.5l.94-2.06 2.06-.94-2.06-.94L8.5 2.5l-.94 2.06-2.06.94zm10 10l.94 2.06.94-2.06 2.06-.94-2.06-.94-.94-2.06-.94 2.06-2.06.94z\"/><path d=\"M17.41 7.96l-1.37-1.37c-.4-.4-.92-.59-1.43-.59-.52 0-1.04.2-1.43.59L10.3 9.45l-7.72 7.72c-.78.78-.78 2.05 0 2.83L4 21.41c.39.39.9.59 1.41.59.51 0 1.02-.2 1.41-.59l7.78-7.78 2.81-2.81c.8-.78.8-2.07 0-2.86zM5.41 20L4 18.59l7.72-7.72 1.47 1.35L5.41 20z\"/>\n",
              "  </svg>\n",
              "      </button>\n",
              "      \n",
              "  <style>\n",
              "    .colab-df-container {\n",
              "      display:flex;\n",
              "      flex-wrap:wrap;\n",
              "      gap: 12px;\n",
              "    }\n",
              "\n",
              "    .colab-df-convert {\n",
              "      background-color: #E8F0FE;\n",
              "      border: none;\n",
              "      border-radius: 50%;\n",
              "      cursor: pointer;\n",
              "      display: none;\n",
              "      fill: #1967D2;\n",
              "      height: 32px;\n",
              "      padding: 0 0 0 0;\n",
              "      width: 32px;\n",
              "    }\n",
              "\n",
              "    .colab-df-convert:hover {\n",
              "      background-color: #E2EBFA;\n",
              "      box-shadow: 0px 1px 2px rgba(60, 64, 67, 0.3), 0px 1px 3px 1px rgba(60, 64, 67, 0.15);\n",
              "      fill: #174EA6;\n",
              "    }\n",
              "\n",
              "    [theme=dark] .colab-df-convert {\n",
              "      background-color: #3B4455;\n",
              "      fill: #D2E3FC;\n",
              "    }\n",
              "\n",
              "    [theme=dark] .colab-df-convert:hover {\n",
              "      background-color: #434B5C;\n",
              "      box-shadow: 0px 1px 3px 1px rgba(0, 0, 0, 0.15);\n",
              "      filter: drop-shadow(0px 1px 2px rgba(0, 0, 0, 0.3));\n",
              "      fill: #FFFFFF;\n",
              "    }\n",
              "  </style>\n",
              "\n",
              "      <script>\n",
              "        const buttonEl =\n",
              "          document.querySelector('#df-b9d68c79-4dfd-439a-b338-545ebf39aff9 button.colab-df-convert');\n",
              "        buttonEl.style.display =\n",
              "          google.colab.kernel.accessAllowed ? 'block' : 'none';\n",
              "\n",
              "        async function convertToInteractive(key) {\n",
              "          const element = document.querySelector('#df-b9d68c79-4dfd-439a-b338-545ebf39aff9');\n",
              "          const dataTable =\n",
              "            await google.colab.kernel.invokeFunction('convertToInteractive',\n",
              "                                                     [key], {});\n",
              "          if (!dataTable) return;\n",
              "\n",
              "          const docLinkHtml = 'Like what you see? Visit the ' +\n",
              "            '<a target=\"_blank\" href=https://colab.research.google.com/notebooks/data_table.ipynb>data table notebook</a>'\n",
              "            + ' to learn more about interactive tables.';\n",
              "          element.innerHTML = '';\n",
              "          dataTable['output_type'] = 'display_data';\n",
              "          await google.colab.output.renderOutput(dataTable, element);\n",
              "          const docLink = document.createElement('div');\n",
              "          docLink.innerHTML = docLinkHtml;\n",
              "          element.appendChild(docLink);\n",
              "        }\n",
              "      </script>\n",
              "    </div>\n",
              "  </div>\n",
              "  "
            ]
          },
          "metadata": {},
          "execution_count": 30
        }
      ]
    },
    {
      "cell_type": "code",
      "source": [
        "sns.set(style=\"ticks\", context=\"talk\")\n",
        "plt.style.use(\"dark_background\")\n",
        "\n",
        "file = \"https://raw.githubusercontent.com/ArikAckerman/dashboard/main/65.2018.csv\"\n",
        "data1865 = pd.read_csv(file, sep=';')\n",
        "\n",
        "print(data1865)\n",
        "\n",
        "N1865 = len(data1865)\n",
        "\n",
        "age1865 = data1865['Age']\n",
        "result1865 = data1865['Rate']\n",
        "year1865 = data1865['Year']\n",
        "\n",
        "print('Literacy Min:', result1865.min())\n",
        "print('Literacy Max:', result1865.max())\n",
        "print('Literacy Std:', result1865.std())\n",
        "print('Literacy Mean:', result1865.mean())\n",
        "print('Literacy Dispersion:', result1865.var())\n",
        "print('Literacy Assimetry:', result1865.skew(), end='\\n')\n",
        "for i in range(0,N1865):\n",
        "  sum1 += (result1865[i]-result1865.mean())**4-3\n",
        "Kurtosis1865 =(N1865/(N1865-1)**2*result65.std()**4)*sum1\n",
        "print('Literacy Kurtosis:', Kurtosis1865, end='\\n')\n",
        "data1865"
      ],
      "metadata": {
        "colab": {
          "base_uri": "https://localhost:8080/",
          "height": 788
        },
        "id": "Jp-rsyNRg8L6",
        "outputId": "50c8d086-07d7-4b69-99c0-a7b88b626fb4"
      },
      "execution_count": null,
      "outputs": [
        {
          "output_type": "stream",
          "name": "stdout",
          "text": [
            "         Country  Year  Age     Sex    Rate\n",
            "0    Afghanistan  2018  65+  female  0.9930\n",
            "1    Afghanistan  2018  65+    male  0.9491\n",
            "2        Albania  2018  65+  female  0.5467\n",
            "3        Albania  2018  65+    male  0.9943\n",
            "4        Algeria  2018  65+  female  0.9953\n",
            "..           ...   ...  ...     ...     ...\n",
            "169      Vanuatu  2018  65+    male  0.7637\n",
            "170     Viet Nam  2018  65+  female  0.2141\n",
            "171     Viet Nam  2018  65+    male  0.9911\n",
            "172       Zambia  2018  65+  female  0.9449\n",
            "173       Zambia  2018  65+    male  0.8093\n",
            "\n",
            "[174 rows x 5 columns]\n",
            "Literacy Min: 0.0414\n",
            "Literacy Max: 0.9998\n",
            "Literacy Std: 0.23384878283626875\n",
            "Literacy Mean: 0.7992017241379311\n",
            "Literacy Dispersion: 0.05468525323400439\n",
            "Literacy Assimetry: -1.2953215633681918\n",
            "Literacy Kurtosis: -0.04886227911533887\n"
          ]
        },
        {
          "output_type": "execute_result",
          "data": {
            "text/plain": [
              "         Country  Year  Age     Sex    Rate\n",
              "0    Afghanistan  2018  65+  female  0.9930\n",
              "1    Afghanistan  2018  65+    male  0.9491\n",
              "2        Albania  2018  65+  female  0.5467\n",
              "3        Albania  2018  65+    male  0.9943\n",
              "4        Algeria  2018  65+  female  0.9953\n",
              "..           ...   ...  ...     ...     ...\n",
              "169      Vanuatu  2018  65+    male  0.7637\n",
              "170     Viet Nam  2018  65+  female  0.2141\n",
              "171     Viet Nam  2018  65+    male  0.9911\n",
              "172       Zambia  2018  65+  female  0.9449\n",
              "173       Zambia  2018  65+    male  0.8093\n",
              "\n",
              "[174 rows x 5 columns]"
            ],
            "text/html": [
              "\n",
              "  <div id=\"df-972317b7-6a78-492f-851a-40752c39b76b\">\n",
              "    <div class=\"colab-df-container\">\n",
              "      <div>\n",
              "<style scoped>\n",
              "    .dataframe tbody tr th:only-of-type {\n",
              "        vertical-align: middle;\n",
              "    }\n",
              "\n",
              "    .dataframe tbody tr th {\n",
              "        vertical-align: top;\n",
              "    }\n",
              "\n",
              "    .dataframe thead th {\n",
              "        text-align: right;\n",
              "    }\n",
              "</style>\n",
              "<table border=\"1\" class=\"dataframe\">\n",
              "  <thead>\n",
              "    <tr style=\"text-align: right;\">\n",
              "      <th></th>\n",
              "      <th>Country</th>\n",
              "      <th>Year</th>\n",
              "      <th>Age</th>\n",
              "      <th>Sex</th>\n",
              "      <th>Rate</th>\n",
              "    </tr>\n",
              "  </thead>\n",
              "  <tbody>\n",
              "    <tr>\n",
              "      <th>0</th>\n",
              "      <td>Afghanistan</td>\n",
              "      <td>2018</td>\n",
              "      <td>65+</td>\n",
              "      <td>female</td>\n",
              "      <td>0.9930</td>\n",
              "    </tr>\n",
              "    <tr>\n",
              "      <th>1</th>\n",
              "      <td>Afghanistan</td>\n",
              "      <td>2018</td>\n",
              "      <td>65+</td>\n",
              "      <td>male</td>\n",
              "      <td>0.9491</td>\n",
              "    </tr>\n",
              "    <tr>\n",
              "      <th>2</th>\n",
              "      <td>Albania</td>\n",
              "      <td>2018</td>\n",
              "      <td>65+</td>\n",
              "      <td>female</td>\n",
              "      <td>0.5467</td>\n",
              "    </tr>\n",
              "    <tr>\n",
              "      <th>3</th>\n",
              "      <td>Albania</td>\n",
              "      <td>2018</td>\n",
              "      <td>65+</td>\n",
              "      <td>male</td>\n",
              "      <td>0.9943</td>\n",
              "    </tr>\n",
              "    <tr>\n",
              "      <th>4</th>\n",
              "      <td>Algeria</td>\n",
              "      <td>2018</td>\n",
              "      <td>65+</td>\n",
              "      <td>female</td>\n",
              "      <td>0.9953</td>\n",
              "    </tr>\n",
              "    <tr>\n",
              "      <th>...</th>\n",
              "      <td>...</td>\n",
              "      <td>...</td>\n",
              "      <td>...</td>\n",
              "      <td>...</td>\n",
              "      <td>...</td>\n",
              "    </tr>\n",
              "    <tr>\n",
              "      <th>169</th>\n",
              "      <td>Vanuatu</td>\n",
              "      <td>2018</td>\n",
              "      <td>65+</td>\n",
              "      <td>male</td>\n",
              "      <td>0.7637</td>\n",
              "    </tr>\n",
              "    <tr>\n",
              "      <th>170</th>\n",
              "      <td>Viet Nam</td>\n",
              "      <td>2018</td>\n",
              "      <td>65+</td>\n",
              "      <td>female</td>\n",
              "      <td>0.2141</td>\n",
              "    </tr>\n",
              "    <tr>\n",
              "      <th>171</th>\n",
              "      <td>Viet Nam</td>\n",
              "      <td>2018</td>\n",
              "      <td>65+</td>\n",
              "      <td>male</td>\n",
              "      <td>0.9911</td>\n",
              "    </tr>\n",
              "    <tr>\n",
              "      <th>172</th>\n",
              "      <td>Zambia</td>\n",
              "      <td>2018</td>\n",
              "      <td>65+</td>\n",
              "      <td>female</td>\n",
              "      <td>0.9449</td>\n",
              "    </tr>\n",
              "    <tr>\n",
              "      <th>173</th>\n",
              "      <td>Zambia</td>\n",
              "      <td>2018</td>\n",
              "      <td>65+</td>\n",
              "      <td>male</td>\n",
              "      <td>0.8093</td>\n",
              "    </tr>\n",
              "  </tbody>\n",
              "</table>\n",
              "<p>174 rows × 5 columns</p>\n",
              "</div>\n",
              "      <button class=\"colab-df-convert\" onclick=\"convertToInteractive('df-972317b7-6a78-492f-851a-40752c39b76b')\"\n",
              "              title=\"Convert this dataframe to an interactive table.\"\n",
              "              style=\"display:none;\">\n",
              "        \n",
              "  <svg xmlns=\"http://www.w3.org/2000/svg\" height=\"24px\"viewBox=\"0 0 24 24\"\n",
              "       width=\"24px\">\n",
              "    <path d=\"M0 0h24v24H0V0z\" fill=\"none\"/>\n",
              "    <path d=\"M18.56 5.44l.94 2.06.94-2.06 2.06-.94-2.06-.94-.94-2.06-.94 2.06-2.06.94zm-11 1L8.5 8.5l.94-2.06 2.06-.94-2.06-.94L8.5 2.5l-.94 2.06-2.06.94zm10 10l.94 2.06.94-2.06 2.06-.94-2.06-.94-.94-2.06-.94 2.06-2.06.94z\"/><path d=\"M17.41 7.96l-1.37-1.37c-.4-.4-.92-.59-1.43-.59-.52 0-1.04.2-1.43.59L10.3 9.45l-7.72 7.72c-.78.78-.78 2.05 0 2.83L4 21.41c.39.39.9.59 1.41.59.51 0 1.02-.2 1.41-.59l7.78-7.78 2.81-2.81c.8-.78.8-2.07 0-2.86zM5.41 20L4 18.59l7.72-7.72 1.47 1.35L5.41 20z\"/>\n",
              "  </svg>\n",
              "      </button>\n",
              "      \n",
              "  <style>\n",
              "    .colab-df-container {\n",
              "      display:flex;\n",
              "      flex-wrap:wrap;\n",
              "      gap: 12px;\n",
              "    }\n",
              "\n",
              "    .colab-df-convert {\n",
              "      background-color: #E8F0FE;\n",
              "      border: none;\n",
              "      border-radius: 50%;\n",
              "      cursor: pointer;\n",
              "      display: none;\n",
              "      fill: #1967D2;\n",
              "      height: 32px;\n",
              "      padding: 0 0 0 0;\n",
              "      width: 32px;\n",
              "    }\n",
              "\n",
              "    .colab-df-convert:hover {\n",
              "      background-color: #E2EBFA;\n",
              "      box-shadow: 0px 1px 2px rgba(60, 64, 67, 0.3), 0px 1px 3px 1px rgba(60, 64, 67, 0.15);\n",
              "      fill: #174EA6;\n",
              "    }\n",
              "\n",
              "    [theme=dark] .colab-df-convert {\n",
              "      background-color: #3B4455;\n",
              "      fill: #D2E3FC;\n",
              "    }\n",
              "\n",
              "    [theme=dark] .colab-df-convert:hover {\n",
              "      background-color: #434B5C;\n",
              "      box-shadow: 0px 1px 3px 1px rgba(0, 0, 0, 0.15);\n",
              "      filter: drop-shadow(0px 1px 2px rgba(0, 0, 0, 0.3));\n",
              "      fill: #FFFFFF;\n",
              "    }\n",
              "  </style>\n",
              "\n",
              "      <script>\n",
              "        const buttonEl =\n",
              "          document.querySelector('#df-972317b7-6a78-492f-851a-40752c39b76b button.colab-df-convert');\n",
              "        buttonEl.style.display =\n",
              "          google.colab.kernel.accessAllowed ? 'block' : 'none';\n",
              "\n",
              "        async function convertToInteractive(key) {\n",
              "          const element = document.querySelector('#df-972317b7-6a78-492f-851a-40752c39b76b');\n",
              "          const dataTable =\n",
              "            await google.colab.kernel.invokeFunction('convertToInteractive',\n",
              "                                                     [key], {});\n",
              "          if (!dataTable) return;\n",
              "\n",
              "          const docLinkHtml = 'Like what you see? Visit the ' +\n",
              "            '<a target=\"_blank\" href=https://colab.research.google.com/notebooks/data_table.ipynb>data table notebook</a>'\n",
              "            + ' to learn more about interactive tables.';\n",
              "          element.innerHTML = '';\n",
              "          dataTable['output_type'] = 'display_data';\n",
              "          await google.colab.output.renderOutput(dataTable, element);\n",
              "          const docLink = document.createElement('div');\n",
              "          docLink.innerHTML = docLinkHtml;\n",
              "          element.appendChild(docLink);\n",
              "        }\n",
              "      </script>\n",
              "    </div>\n",
              "  </div>\n",
              "  "
            ]
          },
          "metadata": {},
          "execution_count": 31
        }
      ]
    },
    {
      "cell_type": "markdown",
      "source": [
        "Confidance Intervals \n",
        "MEAN"
      ],
      "metadata": {
        "id": "lD5PiOP9hpFg"
      }
    },
    {
      "cell_type": "markdown",
      "source": [
        "2012 15+"
      ],
      "metadata": {
        "id": "iXPWF49lh8-C"
      }
    },
    {
      "cell_type": "code",
      "source": [
        "t_criteria = 1.97 \n",
        "\n",
        "se = result15.std()/np.sqrt(N15)\n",
        "lci = result15.mean() - t_criteria * se\n",
        "rci = result15.mean() + t_criteria * se\n",
        "(lci, rci)"
      ],
      "metadata": {
        "colab": {
          "base_uri": "https://localhost:8080/"
        },
        "id": "ejpiLx-nhtA7",
        "outputId": "3ee1f98a-7b6a-42e8-b1c0-d6ff6bd42f26"
      },
      "execution_count": null,
      "outputs": [
        {
          "output_type": "execute_result",
          "data": {
            "text/plain": [
              "(0.765483440658468, 0.837580414763219)"
            ]
          },
          "metadata": {},
          "execution_count": 45
        }
      ]
    },
    {
      "cell_type": "markdown",
      "source": [
        "2012 15-24"
      ],
      "metadata": {
        "id": "Fw4ZeWqdkA-R"
      }
    },
    {
      "cell_type": "code",
      "source": [
        "t_criteria = 1.97 \n",
        "\n",
        "se = result24.std()/np.sqrt(N24)\n",
        "lci = result24.mean() - t_criteria * se\n",
        "rci = result24.mean() + t_criteria * se\n",
        "(lci, rci)"
      ],
      "metadata": {
        "colab": {
          "base_uri": "https://localhost:8080/"
        },
        "id": "xQqh2AHxkC_x",
        "outputId": "c7878e5c-9bc8-4223-935f-ec680030cdad"
      },
      "execution_count": null,
      "outputs": [
        {
          "output_type": "execute_result",
          "data": {
            "text/plain": [
              "(0.7529353721779425, 0.8233778808341058)"
            ]
          },
          "metadata": {},
          "execution_count": 46
        }
      ]
    },
    {
      "cell_type": "markdown",
      "source": [
        "2012 25-65"
      ],
      "metadata": {
        "id": "tFfhwH_bkMCa"
      }
    },
    {
      "cell_type": "code",
      "source": [
        "t_criteria = 1.97 \n",
        "\n",
        "se = result25.std()/np.sqrt(N25)\n",
        "lci = result25.mean() - t_criteria * se\n",
        "rci = result25.mean() + t_criteria * se\n",
        "(lci, rci)"
      ],
      "metadata": {
        "colab": {
          "base_uri": "https://localhost:8080/"
        },
        "id": "tTzSWCTAkOSN",
        "outputId": "89b55990-90b1-4363-f8a1-ab5913177dcf"
      },
      "execution_count": null,
      "outputs": [
        {
          "output_type": "execute_result",
          "data": {
            "text/plain": [
              "(0.7335496545599528, 0.8176168125059154)"
            ]
          },
          "metadata": {},
          "execution_count": 47
        }
      ]
    },
    {
      "cell_type": "markdown",
      "source": [
        "2012 65+"
      ],
      "metadata": {
        "id": "seWTm-lNkVNn"
      }
    },
    {
      "cell_type": "code",
      "source": [
        "t_criteria = 1.97 \n",
        "\n",
        "se = result65.std()/np.sqrt(N65)\n",
        "lci = result65.mean() - t_criteria * se\n",
        "rci = result65.mean() + t_criteria * se\n",
        "(lci, rci)"
      ],
      "metadata": {
        "colab": {
          "base_uri": "https://localhost:8080/"
        },
        "id": "85hJ450SkTaI",
        "outputId": "6857524d-1764-4182-b7e6-ff4002d19b93"
      },
      "execution_count": null,
      "outputs": [
        {
          "output_type": "execute_result",
          "data": {
            "text/plain": [
              "(0.7392423554730382, 0.8168926138521152)"
            ]
          },
          "metadata": {},
          "execution_count": 48
        }
      ]
    },
    {
      "cell_type": "markdown",
      "source": [
        "2018 age: <15\n"
      ],
      "metadata": {
        "id": "SWuMD9NfjPdL"
      }
    },
    {
      "cell_type": "code",
      "source": [
        "t_criteria = 1.97 \n",
        "\n",
        "se = result1815.std()/np.sqrt(N1815)\n",
        "lci = result1815.mean() - t_criteria * se\n",
        "rci = result1815.mean() + t_criteria * se\n",
        "(lci, rci)"
      ],
      "metadata": {
        "colab": {
          "base_uri": "https://localhost:8080/"
        },
        "id": "JkcVpRw1jUI6",
        "outputId": "7df8b5db-69ad-46de-e311-3f976bf596c4"
      },
      "execution_count": null,
      "outputs": [
        {
          "output_type": "execute_result",
          "data": {
            "text/plain": [
              "(0.8065001026116416, 0.8735896701156309)"
            ]
          },
          "metadata": {},
          "execution_count": 35
        }
      ]
    },
    {
      "cell_type": "markdown",
      "source": [
        "2018 age: 15-24"
      ],
      "metadata": {
        "id": "dxd-SXeQjevT"
      }
    },
    {
      "cell_type": "code",
      "source": [
        "t_criteria = 1.97 \n",
        "\n",
        "se = result1824.std()/np.sqrt(N1824)\n",
        "lci = result1824.mean() - t_criteria * se\n",
        "rci = result1824.mean() + t_criteria * se\n",
        "(lci, rci)"
      ],
      "metadata": {
        "colab": {
          "base_uri": "https://localhost:8080/"
        },
        "id": "fqG-iMCbjj9Z",
        "outputId": "d8464014-efc3-48f3-9755-9b5f7d8a5a50"
      },
      "execution_count": null,
      "outputs": [
        {
          "output_type": "execute_result",
          "data": {
            "text/plain": [
              "(0.7091705253764834, 0.7905965200780621)"
            ]
          },
          "metadata": {},
          "execution_count": 36
        }
      ]
    },
    {
      "cell_type": "markdown",
      "source": [
        "2018 age: 25-64"
      ],
      "metadata": {
        "id": "P46sgshcjsMZ"
      }
    },
    {
      "cell_type": "code",
      "source": [
        "t_criteria = 1.97 \n",
        "\n",
        "se = result1825.std()/np.sqrt(N1825)\n",
        "lci = result1825.mean() - t_criteria * se\n",
        "rci = result1825.mean() + t_criteria * se\n",
        "(lci, rci)"
      ],
      "metadata": {
        "colab": {
          "base_uri": "https://localhost:8080/"
        },
        "id": "rABCFxJRlKV6",
        "outputId": "245a937c-1682-41ff-8817-c2e386b76a07"
      },
      "execution_count": null,
      "outputs": [
        {
          "output_type": "execute_result",
          "data": {
            "text/plain": [
              "(0.7794300356336261, 0.8474108734572827)"
            ]
          },
          "metadata": {},
          "execution_count": 49
        }
      ]
    },
    {
      "cell_type": "markdown",
      "source": [
        "2018 age: 65+"
      ],
      "metadata": {
        "id": "0fhIAGGiladb"
      }
    },
    {
      "cell_type": "code",
      "source": [
        "t_criteria = 1.97 \n",
        "\n",
        "se = result1865.std()/np.sqrt(N1865)\n",
        "lci = result1865.mean() - t_criteria * se\n",
        "rci = result1865.mean() + t_criteria * se\n",
        "(lci, rci)"
      ],
      "metadata": {
        "colab": {
          "base_uri": "https://localhost:8080/"
        },
        "id": "3eWbtFLjlcC_",
        "outputId": "0c0586bb-551e-4c83-ecab-a2edc6152f49"
      },
      "execution_count": null,
      "outputs": [
        {
          "output_type": "execute_result",
          "data": {
            "text/plain": [
              "(0.7642775040999189, 0.8341259441759433)"
            ]
          },
          "metadata": {},
          "execution_count": 50
        }
      ]
    },
    {
      "cell_type": "markdown",
      "source": [
        "Confidance Intervals \n",
        "Dispersion"
      ],
      "metadata": {
        "id": "iasblyTClnQp"
      }
    },
    {
      "cell_type": "markdown",
      "source": [
        "2012 15+"
      ],
      "metadata": {
        "id": "3ArexWYBltbY"
      }
    },
    {
      "cell_type": "code",
      "source": [
        "Xi2L = 195.97\n",
        "Xi2R = 136.29\n",
        "disp = result15.var()\n",
        "lci = ((N15-1)*disp)/Xi2L\n",
        "rci = ((N15-1)*disp)/Xi2R\n",
        "(lci,rci)"
      ],
      "metadata": {
        "colab": {
          "base_uri": "https://localhost:8080/"
        },
        "id": "rCy6vsTllrlH",
        "outputId": "d9a46908-70c6-4390-8fd8-e0300c24e952"
      },
      "execution_count": null,
      "outputs": [
        {
          "output_type": "execute_result",
          "data": {
            "text/plain": [
              "(0.046799808035837796, 0.06729296632755986)"
            ]
          },
          "metadata": {},
          "execution_count": 51
        }
      ]
    },
    {
      "cell_type": "markdown",
      "source": [
        "2012 15-24"
      ],
      "metadata": {
        "id": "XH0lMn40oR2y"
      }
    },
    {
      "cell_type": "code",
      "source": [
        "Xi2L = 195.97\n",
        "Xi2R = 136.29\n",
        "disp = result24.var()\n",
        "lci = ((N24-1)*disp)/Xi2L\n",
        "rci = ((N24-1)*disp)/Xi2R\n",
        "(lci,rci)"
      ],
      "metadata": {
        "colab": {
          "base_uri": "https://localhost:8080/"
        },
        "id": "0DpkwZuhoUkf",
        "outputId": "2a14f3c7-580b-4635-f5ed-3201324499cf"
      },
      "execution_count": null,
      "outputs": [
        {
          "output_type": "execute_result",
          "data": {
            "text/plain": [
              "(0.04467654951120499, 0.0642399545653448)"
            ]
          },
          "metadata": {},
          "execution_count": 65
        }
      ]
    },
    {
      "cell_type": "markdown",
      "source": [
        "2012 25-64"
      ],
      "metadata": {
        "id": "jPVv2tr5ocvo"
      }
    },
    {
      "cell_type": "code",
      "source": [
        "Xi2L = 197.06\n",
        "Xi2R = 137.20\n",
        "disp = result25.var()\n",
        "lci = ((N25-1)*disp)/Xi2L\n",
        "rci = ((N25-1)*disp)/Xi2R\n",
        "(lci,rci)"
      ],
      "metadata": {
        "colab": {
          "base_uri": "https://localhost:8080/"
        },
        "id": "QlpSACsBoe7w",
        "outputId": "5f95d3d7-bb30-4d9c-8eaf-c4c6d39cd280"
      },
      "execution_count": null,
      "outputs": [
        {
          "output_type": "execute_result",
          "data": {
            "text/plain": [
              "(0.06404516783240582, 0.09198790650913917)"
            ]
          },
          "metadata": {},
          "execution_count": 52
        }
      ]
    },
    {
      "cell_type": "markdown",
      "source": [
        "2012 65+"
      ],
      "metadata": {
        "id": "splvNSunoyZI"
      }
    },
    {
      "cell_type": "code",
      "source": [
        "Xi2L = 195.97\n",
        "Xi2R = 136.29\n",
        "disp = result65.var()\n",
        "lci = ((N65-1)*disp)/Xi2L\n",
        "rci = ((N65-1)*disp)/Xi2R\n",
        "(lci,rci)"
      ],
      "metadata": {
        "colab": {
          "base_uri": "https://localhost:8080/"
        },
        "id": "1gwipwAGo0h0",
        "outputId": "ae139176-b41b-4292-99a4-a67bf4a334f4"
      },
      "execution_count": null,
      "outputs": [
        {
          "output_type": "execute_result",
          "data": {
            "text/plain": [
              "(0.0523367069330444, 0.0752544167412775)"
            ]
          },
          "metadata": {},
          "execution_count": 53
        }
      ]
    },
    {
      "cell_type": "markdown",
      "source": [
        "2018 15+"
      ],
      "metadata": {
        "id": "-zjEuu4_o-tS"
      }
    },
    {
      "cell_type": "code",
      "source": [
        "Xi2L = 206.86\n",
        "Xi2R = 145.40\n",
        "disp = result1815.var()\n",
        "lci = ((N1815-1)*disp)/Xi2L\n",
        "rci = ((N1815-1)*disp)/Xi2R\n",
        "(lci,rci)"
      ],
      "metadata": {
        "colab": {
          "base_uri": "https://localhost:8080/"
        },
        "id": "2vIbOCytpCQr",
        "outputId": "60598bdf-da09-4125-acd1-768ea595595d"
      },
      "execution_count": null,
      "outputs": [
        {
          "output_type": "execute_result",
          "data": {
            "text/plain": [
              "(0.04317096304456022, 0.061419156914702386)"
            ]
          },
          "metadata": {},
          "execution_count": 42
        }
      ]
    },
    {
      "cell_type": "markdown",
      "source": [
        "2018 15-24"
      ],
      "metadata": {
        "id": "U_CJJQFbqcI2"
      }
    },
    {
      "cell_type": "code",
      "source": [
        "Xi2L = 206.86\n",
        "Xi2R = 145.40\n",
        "disp = result1824.var()\n",
        "lci = ((N1824-1)*disp)/Xi2L\n",
        "rci = ((N1824-1)*disp)/Xi2R\n",
        "(lci,rci)"
      ],
      "metadata": {
        "colab": {
          "base_uri": "https://localhost:8080/"
        },
        "id": "xBic62lnqeKQ",
        "outputId": "eacd6da9-41a3-4328-e1aa-bbf97d5690d6"
      },
      "execution_count": null,
      "outputs": [
        {
          "output_type": "execute_result",
          "data": {
            "text/plain": [
              "(0.06359279272075756, 0.09047321253243404)"
            ]
          },
          "metadata": {},
          "execution_count": 54
        }
      ]
    },
    {
      "cell_type": "markdown",
      "source": [
        "2018 25-64"
      ],
      "metadata": {
        "id": "X9NfAqPdrCdC"
      }
    },
    {
      "cell_type": "code",
      "source": [
        "Xi2L = 206.86\n",
        "Xi2R = 145.40\n",
        "disp = result1825.var()\n",
        "lci = ((N1825-1)*disp)/Xi2L\n",
        "rci = ((N1825-1)*disp)/Xi2R\n",
        "(lci,rci)"
      ],
      "metadata": {
        "colab": {
          "base_uri": "https://localhost:8080/"
        },
        "id": "LUlXW9AgrEZ6",
        "outputId": "408cca82-a854-4001-938c-19c5f568fb2a"
      },
      "execution_count": null,
      "outputs": [
        {
          "output_type": "execute_result",
          "data": {
            "text/plain": [
              "(0.04432561580955059, 0.06306187679754907)"
            ]
          },
          "metadata": {},
          "execution_count": 56
        }
      ]
    },
    {
      "cell_type": "markdown",
      "source": [
        "2018 65+"
      ],
      "metadata": {
        "id": "M_7fCbJ2rK7B"
      }
    },
    {
      "cell_type": "code",
      "source": [
        "Xi2L = 206.86\n",
        "Xi2R = 145.40\n",
        "disp = result1865.var()\n",
        "lci = ((N1865-1)*disp)/Xi2L\n",
        "rci = ((N1865-1)*disp)/Xi2R\n",
        "(lci,rci)"
      ],
      "metadata": {
        "colab": {
          "base_uri": "https://localhost:8080/"
        },
        "id": "B2Fnu__drMrJ",
        "outputId": "ed79ec1d-b60f-41c7-cfef-162c78eb3369"
      },
      "execution_count": null,
      "outputs": [
        {
          "output_type": "execute_result",
          "data": {
            "text/plain": [
              "(0.04573406559742221, 0.06506567269245364)"
            ]
          },
          "metadata": {},
          "execution_count": 57
        }
      ]
    },
    {
      "cell_type": "markdown",
      "source": [
        "Confidance Intervals \n",
        "Assimetry"
      ],
      "metadata": {
        "id": "1uY2o_t-rjGt"
      }
    },
    {
      "cell_type": "markdown",
      "source": [
        "2012 15+"
      ],
      "metadata": {
        "id": "gh-qJ_oxr5Ef"
      }
    },
    {
      "cell_type": "code",
      "source": [
        "q = 0.05\n",
        "da15 = (6*(N15-1))/((N15+1)*(N15+3))\n",
        "lci = result15.skew()- np.sqrt(da15/q)\n",
        "rci = result15.skew()+ np.sqrt(da15/q)\n",
        "(lci,rci)"
      ],
      "metadata": {
        "colab": {
          "base_uri": "https://localhost:8080/"
        },
        "id": "MvsXoV31rmPC",
        "outputId": "7e053fdd-7ba4-4211-eff3-b2b3ede21d84"
      },
      "execution_count": null,
      "outputs": [
        {
          "output_type": "execute_result",
          "data": {
            "text/plain": [
              "(-0.8375890811989907, 0.8375890811989907)"
            ]
          },
          "metadata": {},
          "execution_count": 24
        }
      ]
    },
    {
      "cell_type": "markdown",
      "source": [
        "2012 15-24"
      ],
      "metadata": {
        "id": "Pubq-wS8syaJ"
      }
    },
    {
      "cell_type": "code",
      "source": [
        "q = 0.05\n",
        "da24 = (6*(N24-1))/((N24+1)*(N24+3))\n",
        "lci = result24.skew()- np.sqrt(da24/q)\n",
        "rci = result24.skew()+ np.sqrt(da24/q)\n",
        "(lci,rci)"
      ],
      "metadata": {
        "colab": {
          "base_uri": "https://localhost:8080/"
        },
        "id": "VCV32hTYs1uS",
        "outputId": "d5083f66-548b-4c5e-8d61-3c13982151a4"
      },
      "execution_count": null,
      "outputs": [
        {
          "output_type": "execute_result",
          "data": {
            "text/plain": [
              "(-0.8375890811989907, 0.8375890811989907)"
            ]
          },
          "metadata": {},
          "execution_count": 23
        }
      ]
    },
    {
      "cell_type": "markdown",
      "source": [
        "2012 25-64"
      ],
      "metadata": {
        "id": "WIVOT15bs9xV"
      }
    },
    {
      "cell_type": "code",
      "source": [
        "q = 0.05\n",
        "da25 = (6*(N25-1))/((N25+1)*(N25+3))\n",
        "lci = result25.skew()- np.sqrt(da25/q)\n",
        "rci = result25.skew()+ np.sqrt(da25/q)\n",
        "(lci,rci)"
      ],
      "metadata": {
        "colab": {
          "base_uri": "https://localhost:8080/"
        },
        "id": "hJoTfqfYs_oI",
        "outputId": "b5d8a7b7-c5a5-4157-daa6-b184a424a536"
      },
      "execution_count": null,
      "outputs": [
        {
          "output_type": "execute_result",
          "data": {
            "text/plain": [
              "(-2.063736225959168, -0.3934320721037826)"
            ]
          },
          "metadata": {},
          "execution_count": 66
        }
      ]
    },
    {
      "cell_type": "markdown",
      "source": [
        "2012 65+"
      ],
      "metadata": {
        "id": "GwlauDnntG1B"
      }
    },
    {
      "cell_type": "code",
      "source": [
        "q = 0.05\n",
        "da65 = (6*(N65-1))/((N65+1)*(N65+3))\n",
        "lci = result65.skew()- np.sqrt(da65/q)\n",
        "rci = result65.skew()+ np.sqrt(da65/q)\n",
        "(lci,rci)"
      ],
      "metadata": {
        "colab": {
          "base_uri": "https://localhost:8080/"
        },
        "id": "Yvo9hAbAtI5B",
        "outputId": "84b95668-7c76-448a-c96c-3879d4edcfff"
      },
      "execution_count": null,
      "outputs": [
        {
          "output_type": "execute_result",
          "data": {
            "text/plain": [
              "(-1.9889046842459321, -0.298844548680396)"
            ]
          },
          "metadata": {},
          "execution_count": 67
        }
      ]
    },
    {
      "cell_type": "markdown",
      "source": [
        "2018 <15"
      ],
      "metadata": {
        "id": "BfIAFeAmtcYq"
      }
    },
    {
      "cell_type": "code",
      "source": [
        "q = 0.05\n",
        "da1815 = (6*(N1815-1))/((N1815+1)*(N1815+3))\n",
        "lci = result1815.skew()- np.sqrt(da1815/q)\n",
        "rci = result1815.skew()+ np.sqrt(da1815/q)\n",
        "(lci,rci)"
      ],
      "metadata": {
        "colab": {
          "base_uri": "https://localhost:8080/"
        },
        "id": "XSa1gxbwtfmo",
        "outputId": "a71f6755-9662-4e9b-c0c5-5dbce36e553c"
      },
      "execution_count": null,
      "outputs": [
        {
          "output_type": "execute_result",
          "data": {
            "text/plain": [
              "(-2.5346843388647113, -0.9064140649726741)"
            ]
          },
          "metadata": {},
          "execution_count": 68
        }
      ]
    },
    {
      "cell_type": "markdown",
      "source": [
        "2018 15-24"
      ],
      "metadata": {
        "id": "Ng_rsiHAtn3Q"
      }
    },
    {
      "cell_type": "code",
      "source": [
        "q = 0.05\n",
        "da1824 = (6*(N1824-1))/((N1824+1)*(N1824+3))\n",
        "lci = result1824.skew()- np.sqrt(da1824/q)\n",
        "rci = result1824.skew()+ np.sqrt(da1824/q)\n",
        "(lci,rci)"
      ],
      "metadata": {
        "colab": {
          "base_uri": "https://localhost:8080/"
        },
        "id": "b-luiGlBtqAh",
        "outputId": "8bd71fa6-3995-48be-e1e9-98615fec7629"
      },
      "execution_count": null,
      "outputs": [
        {
          "output_type": "execute_result",
          "data": {
            "text/plain": [
              "(-1.8243558710843746, -0.1960855971923371)"
            ]
          },
          "metadata": {},
          "execution_count": 69
        }
      ]
    },
    {
      "cell_type": "markdown",
      "source": [
        "2018 25-64"
      ],
      "metadata": {
        "id": "rxfalH0Pty2g"
      }
    },
    {
      "cell_type": "code",
      "source": [
        "q = 0.05\n",
        "da1825 = (6*(N1825-1))/((N1825+1)*(N1825+3))\n",
        "lci = result1825.skew()- np.sqrt(da1825/q)\n",
        "rci = result1825.skew()+ np.sqrt(da1825/q)\n",
        "(lci,rci)"
      ],
      "metadata": {
        "colab": {
          "base_uri": "https://localhost:8080/"
        },
        "id": "2v1ZXIaSt1Az",
        "outputId": "e80b653c-5862-4343-a6b5-de1bd14b050c"
      },
      "execution_count": null,
      "outputs": [
        {
          "output_type": "execute_result",
          "data": {
            "text/plain": [
              "(-2.353892732713788, -0.7256224588217507)"
            ]
          },
          "metadata": {},
          "execution_count": 70
        }
      ]
    },
    {
      "cell_type": "markdown",
      "source": [
        "2018 65+"
      ],
      "metadata": {
        "id": "2mTt3zKht9Hc"
      }
    },
    {
      "cell_type": "code",
      "source": [
        "q = 0.05\n",
        "da1865 = (6*(N1865-1))/((N1865+1)*(N1865+3))\n",
        "lci = result1865.skew()- np.sqrt(da1865/q)\n",
        "rci = result1865.skew()+ np.sqrt(da1865/q)\n",
        "(lci,rci)"
      ],
      "metadata": {
        "id": "HRzGizRgt-h1",
        "colab": {
          "base_uri": "https://localhost:8080/"
        },
        "outputId": "e205c5bb-fe7b-4f85-caa9-871fd36e24b1"
      },
      "execution_count": null,
      "outputs": [
        {
          "output_type": "execute_result",
          "data": {
            "text/plain": [
              "(-2.1139899441400063, -0.47665318259637723)"
            ]
          },
          "metadata": {},
          "execution_count": 101
        }
      ]
    },
    {
      "cell_type": "markdown",
      "source": [
        "Confidance Intervals \n",
        "Kurtosis"
      ],
      "metadata": {
        "id": "pSoREFEquUu4"
      }
    },
    {
      "cell_type": "markdown",
      "source": [
        "2012 15+"
      ],
      "metadata": {
        "id": "V_0yqldCuY0v"
      }
    },
    {
      "cell_type": "code",
      "source": [
        "q = 0.05\n",
        "da15 = (24*N15*(N15-2)*(N15-3))/((N15+1)**2*(N15+3)*(N15+5))\n",
        "lci = Kurtosis15- np.sqrt(da15/q)\n",
        "rci = Kurtosis15+ np.sqrt(da15/q)\n",
        "(lci,rci)"
      ],
      "metadata": {
        "colab": {
          "base_uri": "https://localhost:8080/"
        },
        "id": "TxD7MQtvuah_",
        "outputId": "172452a9-a306-496a-b967-c66ef4abeeb9"
      },
      "execution_count": null,
      "outputs": [
        {
          "output_type": "execute_result",
          "data": {
            "text/plain": [
              "(-1.6350144278637182, 1.6163264624071054)"
            ]
          },
          "metadata": {},
          "execution_count": 32
        }
      ]
    },
    {
      "cell_type": "markdown",
      "source": [
        "2012 15-24"
      ],
      "metadata": {
        "id": "_gPepWMGvHRj"
      }
    },
    {
      "cell_type": "code",
      "source": [
        "q = 0.05\n",
        "da24 = (24*N24*(N24-2)*(N24-3))/((N24+1)**2*(N24+3)*(N24+5))\n",
        "lci = Kurtosis24- np.sqrt(da24/q)\n",
        "rci = Kurtosis24+ np.sqrt(da24/q)\n",
        "(lci,rci)"
      ],
      "metadata": {
        "colab": {
          "base_uri": "https://localhost:8080/"
        },
        "id": "aOTlip7rvS24",
        "outputId": "17e97445-a020-43fe-df0a-f8e76734b428"
      },
      "execution_count": null,
      "outputs": [
        {
          "output_type": "execute_result",
          "data": {
            "text/plain": [
              "(-1.634192262017792, 1.6171486282530316)"
            ]
          },
          "metadata": {},
          "execution_count": 33
        }
      ]
    },
    {
      "cell_type": "markdown",
      "source": [
        "2012 25-64"
      ],
      "metadata": {
        "id": "WLlHSALnvfJI"
      }
    },
    {
      "cell_type": "code",
      "source": [
        "q = 0.05\n",
        "da25 = (24*N25*(N25-2)*(N25-3))/((N25+1)**2*(N25+3)*(N25+5))\n",
        "lci = Kurtosis25- np.sqrt(da25/q)\n",
        "rci = Kurtosis25+ np.sqrt(da25/q)\n",
        "(lci,rci)"
      ],
      "metadata": {
        "colab": {
          "base_uri": "https://localhost:8080/"
        },
        "id": "kF-8GcNavhZL",
        "outputId": "c6c090a0-61a8-490a-a466-94aee434603e"
      },
      "execution_count": null,
      "outputs": [
        {
          "output_type": "execute_result",
          "data": {
            "text/plain": [
              "(-1.6386740340416024, 1.6037871081947803)"
            ]
          },
          "metadata": {},
          "execution_count": 34
        }
      ]
    },
    {
      "cell_type": "markdown",
      "source": [
        "2012 65+"
      ],
      "metadata": {
        "id": "S6N6CfnxvqHp"
      }
    },
    {
      "cell_type": "code",
      "source": [
        "q = 0.05\n",
        "da65 = (24*N65*(N65-2)*(N65-3))/((N65+1)**2*(N65+3)*(N65+5))\n",
        "lci = Kurtosis65- np.sqrt(da65/q)\n",
        "rci = Kurtosis65+ np.sqrt(da65/q)\n",
        "(lci,rci)"
      ],
      "metadata": {
        "colab": {
          "base_uri": "https://localhost:8080/"
        },
        "id": "ZEMUH6Smvrys",
        "outputId": "abdc1e7e-fa14-4c12-dabb-a7049d7890e4"
      },
      "execution_count": null,
      "outputs": [
        {
          "output_type": "execute_result",
          "data": {
            "text/plain": [
              "(-1.651333492209753, 1.6270881873206633)"
            ]
          },
          "metadata": {},
          "execution_count": 35
        }
      ]
    },
    {
      "cell_type": "markdown",
      "source": [
        "2018 15+"
      ],
      "metadata": {
        "id": "WcsDL-kywGB1"
      }
    },
    {
      "cell_type": "code",
      "source": [
        "q = 0.05\n",
        "da1815 = (24*N1815*(N1815-2)*(N1815-3))/((N1815+1)**2*(N1815+3)*(N1815+5))\n",
        "lci = Kurtosis1815- np.sqrt(da1815/q)\n",
        "rci = Kurtosis1815+ np.sqrt(da1815/q)\n",
        "(lci,rci)"
      ],
      "metadata": {
        "colab": {
          "base_uri": "https://localhost:8080/"
        },
        "id": "JaMkxTCWwKHE",
        "outputId": "2ef71253-e58a-49dc-d6be-e7ab056b42ba"
      },
      "execution_count": null,
      "outputs": [
        {
          "output_type": "execute_result",
          "data": {
            "text/plain": [
              "(-1.592168046563137, 1.5735013272761948)"
            ]
          },
          "metadata": {},
          "execution_count": 36
        }
      ]
    },
    {
      "cell_type": "markdown",
      "source": [
        "2018 15-24"
      ],
      "metadata": {
        "id": "fWJDIgQ8wnf6"
      }
    },
    {
      "cell_type": "code",
      "source": [
        "q = 0.05\n",
        "da1824 = (24*N1824*(N1824-2)*(N1824-3))/((N1824+1)**2*(N1824+3)*(N1824+5))\n",
        "lci = Kurtosis1824- np.sqrt(da1824/q)\n",
        "rci = Kurtosis1824+ np.sqrt(da1824/q)\n",
        "(lci,rci)"
      ],
      "metadata": {
        "colab": {
          "base_uri": "https://localhost:8080/"
        },
        "id": "rhBFNfLjwpUw",
        "outputId": "6c264d80-5a7a-4ff9-919a-bacf4a5ca289"
      },
      "execution_count": null,
      "outputs": [
        {
          "output_type": "execute_result",
          "data": {
            "text/plain": [
              "(-1.5998394315666016, 1.5658299422727302)"
            ]
          },
          "metadata": {},
          "execution_count": 37
        }
      ]
    },
    {
      "cell_type": "markdown",
      "source": [
        "2018 25-64"
      ],
      "metadata": {
        "id": "y-SMyr77w91I"
      }
    },
    {
      "cell_type": "code",
      "source": [
        "q = 0.05\n",
        "da1825 = (24*N1825*(N1825-2)*(N1825-3))/((N1825+1)**2*(N1825+3)*(N1825+5))\n",
        "lci = Kurtosis1825- np.sqrt(da1825/q)\n",
        "rci = Kurtosis1825+ np.sqrt(da1825/q)\n",
        "(lci,rci)"
      ],
      "metadata": {
        "colab": {
          "base_uri": "https://localhost:8080/"
        },
        "id": "MWallisfxAHu",
        "outputId": "6a8787b8-68c0-4f63-c362-d8029688a6c5"
      },
      "execution_count": null,
      "outputs": [
        {
          "output_type": "execute_result",
          "data": {
            "text/plain": [
              "(-1.6352115709036181, 1.5304578029357137)"
            ]
          },
          "metadata": {},
          "execution_count": 38
        }
      ]
    },
    {
      "cell_type": "markdown",
      "source": [
        "2018 65+"
      ],
      "metadata": {
        "id": "-FSb5NUixS14"
      }
    },
    {
      "cell_type": "code",
      "source": [
        "q = 0.05\n",
        "da1865 = (24*N1865*(N1865-2)*(N1865-3))/((N1865+1)**2*(N1865+3)*(N1865+5))\n",
        "lci = Kurtosis1865- np.sqrt(da1865/q)\n",
        "rci = Kurtosis1865+ np.sqrt(da1865/q)\n",
        "(lci,rci)"
      ],
      "metadata": {
        "colab": {
          "base_uri": "https://localhost:8080/"
        },
        "id": "Zq8-yh9XxUwU",
        "outputId": "d7ce826f-2279-48b3-e6f2-92e36b779293"
      },
      "execution_count": null,
      "outputs": [
        {
          "output_type": "execute_result",
          "data": {
            "text/plain": [
              "(-1.6399946967617047, 1.5422701385310271)"
            ]
          },
          "metadata": {},
          "execution_count": 39
        }
      ]
    },
    {
      "cell_type": "markdown",
      "source": [
        "Histogram 2012 <15"
      ],
      "metadata": {
        "id": "Gw_Z8Hvzxlw5"
      }
    },
    {
      "cell_type": "code",
      "source": [
        "sns.histplot(data=result15, bins=11, stat=\"density\", palette=\"Rate <15\")"
      ],
      "metadata": {
        "colab": {
          "base_uri": "https://localhost:8080/",
          "height": 356
        },
        "id": "KgbGjOnrx2pn",
        "outputId": "a944d4ef-fedf-4018-bfb9-d5941224ba78"
      },
      "execution_count": null,
      "outputs": [
        {
          "output_type": "execute_result",
          "data": {
            "text/plain": [
              "<matplotlib.axes._subplots.AxesSubplot at 0x7f9aaea7cc10>"
            ]
          },
          "metadata": {},
          "execution_count": 91
        },
        {
          "output_type": "display_data",
          "data": {
            "text/plain": [
              "<Figure size 720x360 with 1 Axes>"
            ],
            "image/png": "[encoded data removed]"
          },
          "metadata": {}
        }
      ]
    },
    {
      "cell_type": "code",
      "source": [
        "def exp_from_library(array, min, max, draw = True, label='expon'):\n",
        "\tdd, p = stats.expon.fit(array)\n",
        "\tx = np.linspace(min, max, 100)\n",
        "\ty = stats.expon.ppf(x, loc = dd, scale = p)\n",
        "\tif draw:\n",
        "\t\tsns.lineplot(x=x, y=y, label=label)\n",
        "\treturn x, y, dd, p"
      ],
      "metadata": {
        "id": "pxZRSnTnyzF0"
      },
      "execution_count": null,
      "outputs": []
    },
    {
      "cell_type": "code",
      "source": [
        "def cool_function(df, min, max):\n",
        "  sns.histplot(\n",
        "    df,\n",
        "    bins = 10,\n",
        "    stat=\"density\",\n",
        "    element=\"step\"\n",
        "  )\n",
        "  x_e, y_e, dd_e, p_e = exp_from_library(\n",
        "    array = df,\n",
        "    min = min,\n",
        "    max = max\n",
        "  )\n",
        "  return {\n",
        "      'expon': [x_e, y_e, dd_e, p_e],\n",
        "  }"
      ],
      "metadata": {
        "id": "8zik4e2ry4qA"
      },
      "execution_count": null,
      "outputs": []
    },
    {
      "cell_type": "code",
      "source": [
        "sns.set(rc={'figure.figsize':(10, 5)})\n",
        "plt.style.use(\"dark_background\")\n",
        "\n",
        "df = data15['Rate'].dropna() # дроп на, красиво и элегантно сносит неизвестные данные (None и тд.)\n",
        "min = df.min()\n",
        "max = df.max()\n",
        "results = cool_function(df, min, max)\n",
        "print(N15)"
      ],
      "metadata": {
        "colab": {
          "base_uri": "https://localhost:8080/",
          "height": 356
        },
        "id": "k44_bp59zI7i",
        "outputId": "7cfaf567-c691-4704-9e9a-573952f5622b"
      },
      "execution_count": null,
      "outputs": [
        {
          "output_type": "stream",
          "name": "stdout",
          "text": [
            "166\n"
          ]
        },
        {
          "output_type": "display_data",
          "data": {
            "text/plain": [
              "<Figure size 720x360 with 1 Axes>"
            ],
            "image/png": "[encoded data removed]"
          },
          "metadata": {}
        }
      ]
    },
    {
      "cell_type": "markdown",
      "source": [
        "Chi-Test"
      ],
      "metadata": {
        "id": "na8_obME5Qbb"
      }
    },
    {
      "cell_type": "code",
      "source": [
        "k = round(N15**0.5)\n",
        "d = (max - min) / k\n",
        "\n",
        "histogr, b = np.histogram(df, k, density = True)\n",
        "\n",
        "x_e, y_e, dd_e, p_e = results['expon']\n",
        "\n",
        "exp_freqE = np.zeros(k)\n",
        "\n",
        "for i in range(k):\n",
        "  exp_freqE[i] = stats.expon.cdf(min + (i + 1) * d, loc=dd_e, scale=p_e)\n",
        "  - stats.expon.cdf(min + i * d, loc=dd_e, scale=p_e)\n",
        "\n",
        "obs_freq = histogr * d\n",
        "\n",
        "\n",
        "chiE, pE = stats.chisquare(obs_freq, exp_freqE)\n",
        "print('Chi squred test for Exponential distribution')\n",
        "print(chiE, pE)"
      ],
      "metadata": {
        "colab": {
          "base_uri": "https://localhost:8080/"
        },
        "id": "tWAf0iB05TjA",
        "outputId": "5be0db57-44cd-49c8-dba4-be5291c9ec72"
      },
      "execution_count": null,
      "outputs": [
        {
          "output_type": "stream",
          "name": "stdout",
          "text": [
            "Chi squred test for Exponential distribution\n",
            "4.356278245105965 0.9761161107891833\n"
          ]
        }
      ]
    },
    {
      "cell_type": "markdown",
      "source": [
        "Histogram 2012 15-24"
      ],
      "metadata": {
        "id": "c5qg1-Y6F1ef"
      }
    },
    {
      "cell_type": "code",
      "source": [
        "def exp_from_library(array, min, max, draw = True, label='expon'):\n",
        "\tdd, p = stats.expon.fit(array)\n",
        "\tx = np.linspace(min, max, 100)\n",
        "\ty = stats.expon.ppf(x, loc = dd, scale = p)\n",
        "\tif draw:\n",
        "\t\tsns.lineplot(x=x, y=y, label=label)\n",
        "\treturn x, y, dd, p\n",
        "def cool_function(df, min, max):\n",
        "  sns.histplot(\n",
        "    df,\n",
        "    bins = 10,\n",
        "    stat=\"density\",\n",
        "    element=\"step\"\n",
        "  )\n",
        "  x_e, y_e, dd_e, p_e = exp_from_library(\n",
        "    array = df,\n",
        "    min = min,\n",
        "    max = max\n",
        "  )\n",
        "  return {\n",
        "      'expon': [x_e, y_e, dd_e, p_e],\n",
        "  }\n",
        "\n",
        "sns.set(rc={'figure.figsize':(10, 5)})\n",
        "plt.style.use(\"dark_background\")\n",
        "\n",
        "df = data24['Rate'].dropna() # дроп на, красиво и элегантно сносит неизвестные данные (None и тд.)\n",
        "min = df.min()\n",
        "max = df.max()\n",
        "results = cool_function(df, min, max)\n",
        "print(N24)"
      ],
      "metadata": {
        "colab": {
          "base_uri": "https://localhost:8080/",
          "height": 356
        },
        "id": "r48L4cRkF8qq",
        "outputId": "5edf8066-0c3a-44ab-8c5a-8d5654ff0e0f"
      },
      "execution_count": null,
      "outputs": [
        {
          "output_type": "stream",
          "name": "stdout",
          "text": [
            "166\n"
          ]
        },
        {
          "output_type": "display_data",
          "data": {
            "text/plain": [
              "<Figure size 720x360 with 1 Axes>"
            ],
            "image/png": "[encoded data removed]"
          },
          "metadata": {}
        }
      ]
    },
    {
      "cell_type": "code",
      "source": [
        "k = round(N24**0.5)\n",
        "d = (max - min) / k\n",
        "\n",
        "histogr, b = np.histogram(df, k, density = True)\n",
        "\n",
        "x_e, y_e, dd_e, p_e = results['expon']\n",
        "\n",
        "exp_freqE = np.zeros(k)\n",
        "\n",
        "for i in range(k):\n",
        "  exp_freqE[i] = stats.expon.cdf(min + (i + 1) * d, loc=dd_e, scale=p_e)\n",
        "  - stats.expon.cdf(min + i * d, loc=dd_e, scale=p_e)\n",
        "\n",
        "obs_freq = histogr * d\n",
        "\n",
        "\n",
        "chiE, pE = stats.chisquare(obs_freq, exp_freqE)\n",
        "print('Chi squred test for Exponential distribution')\n",
        "print(chiE, pE)"
      ],
      "metadata": {
        "colab": {
          "base_uri": "https://localhost:8080/"
        },
        "id": "HhtPK2igGhTv",
        "outputId": "e9da9885-094d-443b-c366-3dfb8120e942"
      },
      "execution_count": null,
      "outputs": [
        {
          "output_type": "stream",
          "name": "stdout",
          "text": [
            "Chi squred test for Exponential distribution\n",
            "4.392342666197247 0.9752719991389012\n"
          ]
        }
      ]
    },
    {
      "cell_type": "markdown",
      "source": [
        "2012 25-64"
      ],
      "metadata": {
        "id": "2CmcmcAxGqak"
      }
    },
    {
      "cell_type": "code",
      "source": [
        "def exp_from_library(array, min, max, draw = True, label='expon'):\n",
        "\tdd, p = stats.expon.fit(array)\n",
        "\tx = np.linspace(min, max, 100)\n",
        "\ty = stats.expon.ppf(x, loc = dd, scale = p)\n",
        "\tif draw:\n",
        "\t\tsns.lineplot(x=x, y=y, label=label)\n",
        "\treturn x, y, dd, p\n",
        "def cool_function(df, min, max):\n",
        "  sns.histplot(\n",
        "    df,\n",
        "    bins = 10,\n",
        "    stat=\"density\",\n",
        "    element=\"step\"\n",
        "  )\n",
        "  x_e, y_e, dd_e, p_e = exp_from_library(\n",
        "    array = df,\n",
        "    min = min,\n",
        "    max = max\n",
        "  )\n",
        "  return {\n",
        "      'expon': [x_e, y_e, dd_e, p_e],\n",
        "  }\n",
        "\n",
        "sns.set(rc={'figure.figsize':(10, 5)})\n",
        "plt.style.use(\"dark_background\")\n",
        "\n",
        "df = data25['Rate'].dropna() # дроп на, красиво и элегантно сносит неизвестные данные (None и тд.)\n",
        "min = df.min()\n",
        "max = df.max()\n",
        "results = cool_function(df, min, max)\n",
        "print(N25)\n",
        "\n",
        "k = round(N25**0.5)\n",
        "d = (max - min) / k\n",
        "\n",
        "histogr, b = np.histogram(df, k, density = True)\n",
        "\n",
        "x_e, y_e, dd_e, p_e = results['expon']\n",
        "\n",
        "exp_freqE = np.zeros(k)\n",
        "\n",
        "for i in range(k):\n",
        "  exp_freqE[i] = stats.expon.cdf(min + (i + 1) * d, loc=dd_e, scale=p_e)\n",
        "  - stats.expon.cdf(min + i * d, loc=dd_e, scale=p_e)\n",
        "\n",
        "obs_freq = histogr * d\n",
        "\n",
        "\n",
        "chiE, pE = stats.chisquare(obs_freq, exp_freqE)\n",
        "print('Chi squred test for Exponential distribution')\n",
        "print(chiE, pE)"
      ],
      "metadata": {
        "colab": {
          "base_uri": "https://localhost:8080/",
          "height": 391
        },
        "id": "msXBBQPAGtXm",
        "outputId": "cf7b440a-3d50-452a-9f51-a3695dba4a0a"
      },
      "execution_count": null,
      "outputs": [
        {
          "output_type": "stream",
          "name": "stdout",
          "text": [
            "167\n",
            "Chi squred test for Exponential distribution\n",
            "4.458084855362972 0.9736825658123907\n"
          ]
        },
        {
          "output_type": "display_data",
          "data": {
            "text/plain": [
              "<Figure size 720x360 with 1 Axes>"
            ],
            "image/png": "[encoded data removed]"
          },
          "metadata": {}
        }
      ]
    },
    {
      "cell_type": "markdown",
      "source": [
        "2012 65+"
      ],
      "metadata": {
        "id": "p8k32qTZG_-5"
      }
    },
    {
      "cell_type": "code",
      "source": [
        "def exp_from_library(array, min, max, draw = True, label='expon'):\n",
        "\tdd, p = stats.expon.fit(array)\n",
        "\tx = np.linspace(min, max, 100)\n",
        "\ty = stats.expon.ppf(x, loc = dd, scale = p)\n",
        "\tif draw:\n",
        "\t\tsns.lineplot(x=x, y=y, label=label)\n",
        "\treturn x, y, dd, p\n",
        "def cool_function(df, min, max):\n",
        "  sns.histplot(\n",
        "    df,\n",
        "    bins = 10,\n",
        "    stat=\"density\",\n",
        "    element=\"step\"\n",
        "  )\n",
        "  x_e, y_e, dd_e, p_e = exp_from_library(\n",
        "    array = df,\n",
        "    min = min,\n",
        "    max = max\n",
        "  )\n",
        "  return {\n",
        "      'expon': [x_e, y_e, dd_e, p_e],\n",
        "  }\n",
        "\n",
        "sns.set(rc={'figure.figsize':(10, 5)})\n",
        "plt.style.use(\"dark_background\")\n",
        "\n",
        "df = data65['Rate'].dropna() # дроп на, красиво и элегантно сносит неизвестные данные (None и тд.)\n",
        "min = df.min()\n",
        "max = df.max()\n",
        "results = cool_function(df, min, max)\n",
        "print(N65)\n",
        "\n",
        "k = round(N65**0.5)\n",
        "d = (max - min) / k\n",
        "\n",
        "histogr, b = np.histogram(df, k, density = True)\n",
        "\n",
        "x_e, y_e, dd_e, p_e = results['expon']\n",
        "\n",
        "exp_freqE = np.zeros(k)\n",
        "\n",
        "for i in range(k):\n",
        "  exp_freqE[i] = stats.expon.cdf(min + (i + 1) * d, loc=dd_e, scale=p_e)\n",
        "  - stats.expon.cdf(min + i * d, loc=dd_e, scale=p_e)\n",
        "\n",
        "obs_freq = histogr * d\n",
        "\n",
        "\n",
        "chiE, pE = stats.chisquare(obs_freq, exp_freqE)\n",
        "print('Chi squred test for Exponential distribution')\n",
        "print(chiE, pE)"
      ],
      "metadata": {
        "colab": {
          "base_uri": "https://localhost:8080/",
          "height": 391
        },
        "id": "IXecOz1RHB7o",
        "outputId": "c2aae65a-3ee6-4395-8af2-a0e1d6b183a1"
      },
      "execution_count": null,
      "outputs": [
        {
          "output_type": "stream",
          "name": "stdout",
          "text": [
            "163\n",
            "Chi squred test for Exponential distribution\n",
            "4.40167500410125 0.975050374611859\n"
          ]
        },
        {
          "output_type": "display_data",
          "data": {
            "text/plain": [
              "<Figure size 720x360 with 1 Axes>"
            ],
            "image/png": "[encoded data removed]"
          },
          "metadata": {}
        }
      ]
    },
    {
      "cell_type": "markdown",
      "source": [
        "2018 <15"
      ],
      "metadata": {
        "id": "lfcQhR5uHRiO"
      }
    },
    {
      "cell_type": "code",
      "source": [
        "def exp_from_library(array, min, max, draw = True, label='expon'):\n",
        "\tdd, p = stats.expon.fit(array)\n",
        "\tx = np.linspace(min, max, 100)\n",
        "\ty = stats.expon.ppf(x, loc = dd, scale = p)\n",
        "\tif draw:\n",
        "\t\tsns.lineplot(x=x, y=y, label=label)\n",
        "\treturn x, y, dd, p\n",
        "def cool_function(df, min, max):\n",
        "  sns.histplot(\n",
        "    df,\n",
        "    bins = 10,\n",
        "    stat=\"density\",\n",
        "    element=\"step\"\n",
        "  )\n",
        "  x_e, y_e, dd_e, p_e = exp_from_library(\n",
        "    array = df,\n",
        "    min = min,\n",
        "    max = max\n",
        "  )\n",
        "  return {\n",
        "      'expon': [x_e, y_e, dd_e, p_e],\n",
        "  }\n",
        "\n",
        "sns.set(rc={'figure.figsize':(10, 5)})\n",
        "plt.style.use(\"dark_background\")\n",
        "\n",
        "df = data1815['Rate'].dropna() # дроп на, красиво и элегантно сносит неизвестные данные (None и тд.)\n",
        "min = df.min()\n",
        "max = df.max()\n",
        "results = cool_function(df, min, max)\n",
        "print(N1815)\n",
        "\n",
        "k = round(N1815**0.5)\n",
        "d = (max - min) / k\n",
        "\n",
        "histogr, b = np.histogram(df, k, density = True)\n",
        "\n",
        "x_e, y_e, dd_e, p_e = results['expon']\n",
        "\n",
        "exp_freqE = np.zeros(k)\n",
        "\n",
        "for i in range(k):\n",
        "  exp_freqE[i] = stats.expon.cdf(min + (i + 1) * d, loc=dd_e, scale=p_e)\n",
        "  - stats.expon.cdf(min + i * d, loc=dd_e, scale=p_e)\n",
        "\n",
        "obs_freq = histogr * d\n",
        "\n",
        "\n",
        "chiE, pE = stats.chisquare(obs_freq, exp_freqE)\n",
        "print('Chi squred test for Exponential distribution')\n",
        "print(chiE, pE)"
      ],
      "metadata": {
        "colab": {
          "base_uri": "https://localhost:8080/",
          "height": 391
        },
        "id": "whok_DA2HT7B",
        "outputId": "1304ab44-31d4-40ab-c3df-464c67e049af"
      },
      "execution_count": null,
      "outputs": [
        {
          "output_type": "stream",
          "name": "stdout",
          "text": [
            "176\n",
            "Chi squred test for Exponential distribution\n",
            "4.338692518347612 0.9765206365484453\n"
          ]
        },
        {
          "output_type": "display_data",
          "data": {
            "text/plain": [
              "<Figure size 720x360 with 1 Axes>"
            ],
            "image/png": "[encoded data removed]"
          },
          "metadata": {}
        }
      ]
    },
    {
      "cell_type": "markdown",
      "source": [
        "2018 15-24"
      ],
      "metadata": {
        "id": "wKMsHPTUHgUI"
      }
    },
    {
      "cell_type": "code",
      "source": [
        "def exp_from_library(array, min, max, draw = True, label='expon'):\n",
        "\tdd, p = stats.expon.fit(array)\n",
        "\tx = np.linspace(min, max, 100)\n",
        "\ty = stats.expon.ppf(x, loc = dd, scale = p)\n",
        "\tif draw:\n",
        "\t\tsns.lineplot(x=x, y=y, label=label)\n",
        "\treturn x, y, dd, p\n",
        "def cool_function(df, min, max):\n",
        "  sns.histplot(\n",
        "    df,\n",
        "    bins = 10,\n",
        "    stat=\"density\",\n",
        "    element=\"step\"\n",
        "  )\n",
        "  x_e, y_e, dd_e, p_e = exp_from_library(\n",
        "    array = df,\n",
        "    min = min,\n",
        "    max = max\n",
        "  )\n",
        "  return {\n",
        "      'expon': [x_e, y_e, dd_e, p_e],\n",
        "  }\n",
        "\n",
        "sns.set(rc={'figure.figsize':(10, 5)})\n",
        "plt.style.use(\"dark_background\")\n",
        "\n",
        "df = data1824['Rate'].dropna() # дроп на, красиво и элегантно сносит неизвестные данные (None и тд.)\n",
        "min = df.min()\n",
        "max = df.max()\n",
        "results = cool_function(df, min, max)\n",
        "print(N1824)\n",
        "\n",
        "k = round(N1824**0.5)\n",
        "d = (max - min) / k\n",
        "\n",
        "histogr, b = np.histogram(df, k, density = True)\n",
        "\n",
        "x_e, y_e, dd_e, p_e = results['expon']\n",
        "\n",
        "exp_freqE = np.zeros(k)\n",
        "\n",
        "for i in range(k):\n",
        "  exp_freqE[i] = stats.expon.cdf(min + (i + 1) * d, loc=dd_e, scale=p_e)\n",
        "  - stats.expon.cdf(min + i * d, loc=dd_e, scale=p_e)\n",
        "\n",
        "obs_freq = histogr * d\n",
        "\n",
        "\n",
        "chiE, pE = stats.chisquare(obs_freq, exp_freqE)\n",
        "print('Chi squred test for Exponential distribution')\n",
        "print(chiE, pE)"
      ],
      "metadata": {
        "colab": {
          "base_uri": "https://localhost:8080/",
          "height": 391
        },
        "id": "NH-95gG2HniJ",
        "outputId": "fd745333-94a5-4166-b1e9-5da18a4ba4cd"
      },
      "execution_count": null,
      "outputs": [
        {
          "output_type": "stream",
          "name": "stdout",
          "text": [
            "176\n",
            "Chi squred test for Exponential distribution\n",
            "4.48983603012675 0.9728912433159295\n"
          ]
        },
        {
          "output_type": "display_data",
          "data": {
            "text/plain": [
              "<Figure size 720x360 with 1 Axes>"
            ],
            "image/png": "[encoded data removed]"
          },
          "metadata": {}
        }
      ]
    },
    {
      "cell_type": "markdown",
      "source": [
        "2018 25-64"
      ],
      "metadata": {
        "id": "x_N6JEkBIw89"
      }
    },
    {
      "cell_type": "code",
      "source": [
        "def exp_from_library(array, min, max, draw = True, label='expon'):\n",
        "\tdd, p = stats.expon.fit(array)\n",
        "\tx = np.linspace(min, max, 100)\n",
        "\ty = stats.expon.ppf(x, loc = dd, scale = p)\n",
        "\tif draw:\n",
        "\t\tsns.lineplot(x=x, y=y, label=label)\n",
        "\treturn x, y, dd, p\n",
        "def cool_function(df, min, max):\n",
        "  sns.histplot(\n",
        "    df,\n",
        "    bins = 10,\n",
        "    stat=\"density\",\n",
        "    element=\"step\"\n",
        "  )\n",
        "  x_e, y_e, dd_e, p_e = exp_from_library(\n",
        "    array = df,\n",
        "    min = min,\n",
        "    max = max\n",
        "  )\n",
        "  return {\n",
        "      'expon': [x_e, y_e, dd_e, p_e],\n",
        "  }\n",
        "\n",
        "sns.set(rc={'figure.figsize':(10, 5)})\n",
        "plt.style.use(\"dark_background\")\n",
        "\n",
        "df = data1825['Rate'].dropna() # дроп на, красиво и элегантно сносит неизвестные данные (None и тд.)\n",
        "min = df.min()\n",
        "max = df.max()\n",
        "results = cool_function(df, min, max)\n",
        "print(N1825)\n",
        "\n",
        "k = round(N1825**0.5)\n",
        "d = (max - min) / k\n",
        "\n",
        "histogr, b = np.histogram(df, k, density = True)\n",
        "\n",
        "x_e, y_e, dd_e, p_e = results['expon']\n",
        "\n",
        "exp_freqE = np.zeros(k)\n",
        "\n",
        "for i in range(k):\n",
        "  exp_freqE[i] = stats.expon.cdf(min + (i + 1) * d, loc=dd_e, scale=p_e)\n",
        "  - stats.expon.cdf(min + i * d, loc=dd_e, scale=p_e)\n",
        "\n",
        "obs_freq = histogr * d\n",
        "\n",
        "\n",
        "chiE, pE = stats.chisquare(obs_freq, exp_freqE)\n",
        "print('Chi squred test for Exponential distribution')\n",
        "print(chiE, pE)"
      ],
      "metadata": {
        "colab": {
          "base_uri": "https://localhost:8080/",
          "height": 391
        },
        "id": "UMlxkQEhIykO",
        "outputId": "70cf7c3d-1b5f-44d4-e509-7ddaa2611cce"
      },
      "execution_count": null,
      "outputs": [
        {
          "output_type": "stream",
          "name": "stdout",
          "text": [
            "176\n",
            "Chi squred test for Exponential distribution\n",
            "4.306435126853142 0.977250674387415\n"
          ]
        },
        {
          "output_type": "display_data",
          "data": {
            "text/plain": [
              "<Figure size 720x360 with 1 Axes>"
            ],
            "image/png": "[encoded data removed]"
          },
          "metadata": {}
        }
      ]
    },
    {
      "cell_type": "markdown",
      "source": [
        "2018 65+"
      ],
      "metadata": {
        "id": "IlxlXvoTJAJO"
      }
    },
    {
      "cell_type": "code",
      "source": [
        "def exp_from_library(array, min, max, draw = True, label='expon'):\n",
        "\tdd, p = stats.expon.fit(array)\n",
        "\tx = np.linspace(min, max, 100)\n",
        "\ty = stats.expon.ppf(x, loc = dd, scale = p)\n",
        "\tif draw:\n",
        "\t\tsns.lineplot(x=x, y=y, label=label)\n",
        "\treturn x, y, dd, p\n",
        "def cool_function(df, min, max):\n",
        "  sns.histplot(\n",
        "    df,\n",
        "    bins = 10,\n",
        "    stat=\"density\",\n",
        "    element=\"step\"\n",
        "  )\n",
        "  x_e, y_e, dd_e, p_e = exp_from_library(\n",
        "    array = df,\n",
        "    min = min,\n",
        "    max = max\n",
        "  )\n",
        "  return {\n",
        "      'expon': [x_e, y_e, dd_e, p_e],\n",
        "  }\n",
        "\n",
        "sns.set(rc={'figure.figsize':(10, 5)})\n",
        "plt.style.use(\"dark_background\")\n",
        "\n",
        "df = data1865['Rate'].dropna() # дроп на, красиво и элегантно сносит неизвестные данные (None и тд.)\n",
        "min = df.min()\n",
        "max = df.max()\n",
        "results = cool_function(df, min, max)\n",
        "print(N1865)\n",
        "\n",
        "k = round(N1865**0.5)\n",
        "d = (max - min) / k\n",
        "\n",
        "histogr, b = np.histogram(df, k, density = True)\n",
        "\n",
        "x_e, y_e, dd_e, p_e = results['expon']\n",
        "\n",
        "exp_freqE = np.zeros(k)\n",
        "\n",
        "for i in range(k):\n",
        "  exp_freqE[i] = stats.expon.cdf(min + (i + 1) * d, loc=dd_e, scale=p_e)\n",
        "  - stats.expon.cdf(min + i * d, loc=dd_e, scale=p_e)\n",
        "\n",
        "obs_freq = histogr * d\n",
        "\n",
        "\n",
        "chiE, pE = stats.chisquare(obs_freq, exp_freqE)\n",
        "print('Chi squred test for Exponential distribution')\n",
        "print(chiE, pE)"
      ],
      "metadata": {
        "colab": {
          "base_uri": "https://localhost:8080/",
          "height": 391
        },
        "id": "nq-ccSy9JBoV",
        "outputId": "ba541484-9903-466a-b89a-b874ec1abc7b"
      },
      "execution_count": null,
      "outputs": [
        {
          "output_type": "stream",
          "name": "stdout",
          "text": [
            "174\n",
            "Chi squred test for Exponential distribution\n",
            "4.344899537119206 0.9763783840160366\n"
          ]
        },
        {
          "output_type": "display_data",
          "data": {
            "text/plain": [
              "<Figure size 720x360 with 1 Axes>"
            ],
            "image/png": "[encoded data removed]"
          },
          "metadata": {}
        }
      ]
    },
    {
      "cell_type": "markdown",
      "source": [
        "2012 vs 2018 \n",
        "Mean"
      ],
      "metadata": {
        "id": "iS3tvQwfJnVg"
      }
    },
    {
      "cell_type": "markdown",
      "source": [
        "15+"
      ],
      "metadata": {
        "id": "RrhtLSibNDyV"
      }
    },
    {
      "cell_type": "code",
      "source": [
        "MO12 = result15.mean()\n",
        "D12 = result15.var()\n",
        "CKO12 = result15.std()\n",
        "n12 = N15\n",
        "q12 = 1.97\n",
        "v12 =D12 / n12\n",
        "\n",
        "MO18 = result1815.mean()\n",
        "D18 = result1815.var()\n",
        "CKO18 = result1815.std()\n",
        "n18 = N1815\n",
        "q18 = 1.97\n",
        "v18 =D18 / n18\n",
        "\n",
        "t = (v12*q12 + v18*q18)/np.sqrt(v12+v12)\n",
        "m = MO12-MO18\n",
        "print(\"m = \", m)\n",
        "print(\"tau = \", t)\n",
        "print(\"General value:\", -t, \" < Mx < \", t) "
      ],
      "metadata": {
        "colab": {
          "base_uri": "https://localhost:8080/"
        },
        "id": "EnBj8IfWJsSA",
        "outputId": "85361dd1-8b3c-4a65-f3d6-87f464ddda67"
      },
      "execution_count": null,
      "outputs": [
        {
          "output_type": "stream",
          "name": "stdout",
          "text": [
            "m =  -0.038512958652792806\n",
            "tau =  0.04756244808056658\n",
            "General value: -0.04756244808056658  < Mx <  0.04756244808056658\n"
          ]
        }
      ]
    },
    {
      "cell_type": "markdown",
      "source": [
        "15-24"
      ],
      "metadata": {
        "id": "wl6sNkP3L5mF"
      }
    },
    {
      "cell_type": "code",
      "source": [
        "MO12 = result24.mean()\n",
        "D12 = result24.var()\n",
        "CKO12 = result24.std()\n",
        "n12 = N24\n",
        "q12 = 1.97\n",
        "v12 =D12 / n12\n",
        "\n",
        "MO18 = result1824.mean()\n",
        "D18 = result1824.var()\n",
        "CKO18 = result1824.std()\n",
        "n18 = N1824\n",
        "q18 = 1.97\n",
        "v18 =D18 / n18\n",
        "\n",
        "t = (v12*q12 + v18*q18)/np.sqrt(v12+v12)\n",
        "m = MO12-MO18\n",
        "print(\"m = \", m)\n",
        "print(\"tau = \", t)\n",
        "print(\"General value:\", -t, \" < Mx < \", t) "
      ],
      "metadata": {
        "id": "LlgfOT8PL6jV",
        "colab": {
          "base_uri": "https://localhost:8080/"
        },
        "outputId": "46224097-53bd-459d-ea75-9133b2fe5e5a"
      },
      "execution_count": null,
      "outputs": [
        {
          "output_type": "stream",
          "name": "stdout",
          "text": [
            "m =  0.03827310377875137\n",
            "tau =  0.05818235412728544\n",
            "General value: -0.05818235412728544  < Mx <  0.05818235412728544\n"
          ]
        }
      ]
    },
    {
      "cell_type": "markdown",
      "source": [
        "25-64"
      ],
      "metadata": {
        "id": "YRiAnzguOTiC"
      }
    },
    {
      "cell_type": "code",
      "source": [
        "MO12 = result25.mean()\n",
        "D12 = result25.var()\n",
        "CKO12 = result25.std()\n",
        "n12 = N25\n",
        "q12 = 1.97\n",
        "v12 =D12 / n12\n",
        "\n",
        "MO18 = result1825.mean()\n",
        "D18 = result1825.var()\n",
        "CKO18 = result1825.std()\n",
        "n18 = N1825\n",
        "q18 = 1.97\n",
        "v18 =D18 / n18\n",
        "\n",
        "t = (v12*q12 + v18*q18)/np.sqrt(v12+v12)\n",
        "m = MO12-MO18\n",
        "print(\"m = \", m)\n",
        "print(\"tau = \", t)\n",
        "print(\"General value:\", -t, \" < Mx < \", t) "
      ],
      "metadata": {
        "id": "jVTfaLQ7OVC4",
        "outputId": "0fd19302-16ea-4e70-82b8-b6097a86b35a",
        "colab": {
          "base_uri": "https://localhost:8080/"
        }
      },
      "execution_count": null,
      "outputs": [
        {
          "output_type": "stream",
          "name": "stdout",
          "text": [
            "m =  -0.037837221012520295\n",
            "tau =  0.04915799494193551\n",
            "General value: -0.04915799494193551  < Mx <  0.04915799494193551\n"
          ]
        }
      ]
    },
    {
      "cell_type": "markdown",
      "source": [
        "65+"
      ],
      "metadata": {
        "id": "jYHkoKPmOaNz"
      }
    },
    {
      "cell_type": "code",
      "source": [
        "MO12 = result65.mean()\n",
        "D12 = result65.var()\n",
        "CKO12 = result65.std()\n",
        "n12 = N65\n",
        "q12 = 1.97\n",
        "v12 =D12 / n12\n",
        "\n",
        "MO18 = result1865.mean()\n",
        "D18 = result1865.var()\n",
        "CKO18 = result1865.std()\n",
        "n18 = N1865\n",
        "q18 = 1.97\n",
        "v18 =D18 / n18\n",
        "\n",
        "t = (v12*q12 + v18*q18)/np.sqrt(v12+v12)\n",
        "m = MO12-MO18\n",
        "print(\"m = \", m)\n",
        "print(\"tau = \", t)\n",
        "print(\"General value:\", -t, \" < Mx < \", t) "
      ],
      "metadata": {
        "colab": {
          "base_uri": "https://localhost:8080/"
        },
        "id": "f-IjwA5vObLe",
        "outputId": "2dd3e9c7-6cc5-497f-b3e6-d55dd54d2c7f"
      },
      "execution_count": null,
      "outputs": [
        {
          "output_type": "stream",
          "name": "stdout",
          "text": [
            "m =  -0.02113423947535442\n",
            "tau =  0.04966744853805791\n",
            "General value: -0.04966744853805791  < Mx <  0.04966744853805791\n"
          ]
        }
      ]
    },
    {
      "cell_type": "markdown",
      "source": [
        "2012 vs 2018 Dispersion"
      ],
      "metadata": {
        "id": "xRwyJ6fPPPDZ"
      }
    },
    {
      "cell_type": "markdown",
      "source": [
        "15+"
      ],
      "metadata": {
        "id": "02U-3ttKQQ4y"
      }
    },
    {
      "cell_type": "code",
      "source": [
        "FL = 0.776179 \n",
        "D12 = result15.var()\n",
        "\n",
        "FR = 1.286826\n",
        "D18 = result1815.var()\n",
        "\n",
        "D = D12/ D18\n",
        "print(\"D = \", D)\n",
        "print(\"General value:\", FL, \" < Dx < \", FR) "
      ],
      "metadata": {
        "colab": {
          "base_uri": "https://localhost:8080/"
        },
        "id": "mhX_v0inPS3j",
        "outputId": "f5bd8da1-87e6-4dfd-f214-c0441b385518"
      },
      "execution_count": null,
      "outputs": [
        {
          "output_type": "stream",
          "name": "stdout",
          "text": [
            "D =  1.0892297923747847\n",
            "General value: 0.776179  < Dx <  1.286826\n"
          ]
        }
      ]
    },
    {
      "cell_type": "markdown",
      "source": [
        "15-24"
      ],
      "metadata": {
        "id": "_xtTAbqpQStV"
      }
    },
    {
      "cell_type": "code",
      "source": [
        "FL = 0.777106\n",
        "D12 = result24.var()\n",
        "\n",
        "FR = 1.288363\n",
        "D18 = result1824.var()\n",
        "\n",
        "D = D18/ D12\n",
        "print(\"D = \", D)\n",
        "print(\"General value:\", FL, \" < Dx < \", FR) "
      ],
      "metadata": {
        "colab": {
          "base_uri": "https://localhost:8080/"
        },
        "id": "ROaJbOCXQUQG",
        "outputId": "3eb13eb1-91a3-46ae-b6ba-56f38a9dabf5"
      },
      "execution_count": null,
      "outputs": [
        {
          "output_type": "stream",
          "name": "stdout",
          "text": [
            "D =  1.4166452082520247\n",
            "General value: 0.777106  < Dx <  1.288363\n"
          ]
        }
      ]
    },
    {
      "cell_type": "markdown",
      "source": [
        "25-64"
      ],
      "metadata": {
        "id": "o2zb-lx6QjDM"
      }
    },
    {
      "cell_type": "code",
      "source": [
        "FL = 0.777106\n",
        "D12 = result25.var()\n",
        "\n",
        "FR = 1.288363\n",
        "D18 = result1825.var()\n",
        "\n",
        "D = D12/ D18\n",
        "print(\"D = \", D)\n",
        "print(\"General value:\", FL, \" < Dx < \", FR) "
      ],
      "metadata": {
        "colab": {
          "base_uri": "https://localhost:8080/"
        },
        "id": "TsMdv2imQkar",
        "outputId": "9dd08b2a-7270-4713-d4f4-055895fb5651"
      },
      "execution_count": null,
      "outputs": [
        {
          "output_type": "stream",
          "name": "stdout",
          "text": [
            "D =  1.451053780152257\n",
            "General value: 0.777106  < Dx <  1.288363\n"
          ]
        }
      ]
    },
    {
      "cell_type": "markdown",
      "source": [
        "65+"
      ],
      "metadata": {
        "id": "mavBOva3QxH9"
      }
    },
    {
      "cell_type": "code",
      "source": [
        "FL = 0.776179\n",
        "D12 = result65.var()\n",
        "\n",
        "FR = 1.286826\n",
        "D18 = result1865.var()\n",
        "\n",
        "D = D12/ D18\n",
        "print(\"D = \", D)\n",
        "print(\"General value:\", FL, \" < Dx < \", FR) "
      ],
      "metadata": {
        "colab": {
          "base_uri": "https://localhost:8080/"
        },
        "id": "PGogfDUOQyB-",
        "outputId": "355675d2-05b3-4153-e97a-f7399b85cb49"
      },
      "execution_count": null,
      "outputs": [
        {
          "output_type": "stream",
          "name": "stdout",
          "text": [
            "D =  1.157739213777775\n",
            "General value: 0.776179  < Dx <  1.286826\n"
          ]
        }
      ]
    },
    {
      "cell_type": "markdown",
      "source": [
        "Regression"
      ],
      "metadata": {
        "id": "pBI70S_uXuGD"
      }
    },
    {
      "cell_type": "code",
      "source": [
        "from sklearn.preprocessing import PolynomialFeatures\n",
        "file = \"https://raw.githubusercontent.com/ArikAckerman/dashboard/main/overall.female.csv\"\n",
        "dataF = pd.read_csv(file, sep=';')\n",
        "\n",
        "df = dataF.dropna()\n",
        "n = 350\n",
        "df = df.sort_values(by=['Country'])\n",
        "y = df['Rate']\n",
        "x = df['Year']\n",
        "\n",
        "sns.set(rc={'figure.figsize':(40, 10)})\n",
        "plt.style.use(\"dark_background\")\n",
        "# print(y.describe())\n",
        "\n"
      ],
      "metadata": {
        "id": "pPy0DYXyXwRc"
      },
      "execution_count": null,
      "outputs": []
    },
    {
      "cell_type": "code",
      "source": [
        "\n",
        "df = dataF.dropna().sort_values(by=['Country'])\n",
        "x = np.array(df['Year'], dtype='int32').reshape((-1, 1))\n",
        "y = df['Rate']\n",
        "model = LinearRegression()\n",
        "model.fit(x, y)\n",
        "r_sq = model.score(x, y)\n",
        "print(f\"coefficient of determination: {r_sq}\")\n",
        "print(f\"intercept: {model.intercept_}\")\n",
        "print(f\"slope: {model.coef_}\")\n",
        "sns.set(rc={'figure.figsize':(30, 10)})\n",
        "plt.style.use(\"dark_background\")\n",
        "\n",
        "# y_pred = model.intercept_ + model.coef_ * x\n",
        "y_pred = model.predict(x)\n",
        "print(f\"predicted response:\\n{y_pred}\")\n",
        "\n",
        "new_arr = np.concatenate((np.unique(np.array(df['Year'], dtype='int32')), [2012, 2014, 2023]), axis=None)\n",
        "new_x = new_arr.reshape((-1, 1))\n",
        "y_pred = model.predict(new_x)\n",
        "print(f\"predicted response for 2023:\\n{y_pred[-1]}\")\n",
        "\n",
        "new_df = pd.DataFrame({'Year': new_arr})\n",
        "# print(new_df['Year'], df['Year'])\n",
        "\n",
        "sns.scatterplot(x=df['Year'], y=y, s=300, color='#551122')\n",
        "sns.lineplot(x=new_df['Year'], y=y_pred, label='Regression', marker='o', color='#ffdd22')"
      ],
      "metadata": {
        "colab": {
          "base_uri": "https://localhost:8080/",
          "height": 534
        },
        "id": "TW4MQROJwcqc",
        "outputId": "0fd6742f-3260-4330-934a-dab10dd36fa2"
      },
      "execution_count": null,
      "outputs": [
        {
          "output_type": "stream",
          "name": "stdout",
          "text": [
            "coefficient of determination: 1.889558881995601e-05\n",
            "intercept: -0.07832489375460239\n",
            "slope: [0.00042669]\n",
            "predicted response:\n",
            "[0.77975599 0.77975599 0.77975599 ... 0.78103607 0.78103607 0.78103607]\n",
            "predicted response for 2023:\n",
            "0.78487631502567\n"
          ]
        },
        {
          "output_type": "execute_result",
          "data": {
            "text/plain": [
              "<matplotlib.axes._subplots.AxesSubplot at 0x7f9aac55ae50>"
            ]
          },
          "metadata": {},
          "execution_count": 202
        },
        {
          "output_type": "display_data",
          "data": {
            "text/plain": [
              "<Figure size 2160x720 with 1 Axes>"
            ],
            "image/png": "[encoded data removed]"
          },
          "metadata": {}
        }
      ]
    },
    {
      "cell_type": "markdown",
      "source": [
        "Male 2010-2018 + 2023 prediction"
      ],
      "metadata": {
        "id": "PqJaP7Nvz3Qa"
      }
    },
    {
      "cell_type": "code",
      "source": [
        "from sklearn.preprocessing import PolynomialFeatures\n",
        "file = \"https://raw.githubusercontent.com/ArikAckerman/dashboard/main/overall.male.csv\"\n",
        "dataF = pd.read_csv(file, sep=';')\n",
        "\n",
        "df = dataF.dropna()\n",
        "n = 350\n",
        "df = df.sort_values(by=['Country'])\n",
        "y = df['Rate']\n",
        "x = df['Year']\n",
        "\n",
        "sns.set(rc={'figure.figsize':(40, 10)})\n",
        "plt.style.use(\"dark_background\")\n",
        "# print(y.describe())\n",
        "df = dataF.dropna().sort_values(by=['Country'])\n",
        "x = np.array(df['Year'], dtype='int32').reshape((-1, 1))\n",
        "y = df['Rate']\n",
        "model = LinearRegression()\n",
        "model.fit(x, y)\n",
        "r_sq = model.score(x, y)\n",
        "print(f\"coefficient of determination: {r_sq}\")\n",
        "print(f\"intercept: {model.intercept_}\")\n",
        "print(f\"slope: {model.coef_}\")\n",
        "sns.set(rc={'figure.figsize':(30, 10)})\n",
        "plt.style.use(\"dark_background\")\n",
        "\n",
        "# y_pred = model.intercept_ + model.coef_ * x\n",
        "y_pred = model.predict(x)\n",
        "print(f\"predicted response:\\n{y_pred}\")\n",
        "\n",
        "new_arr = np.concatenate((np.unique(np.array(df['Year'], dtype='int32')), [2012, 2014, 2023]), axis=None)\n",
        "new_x = new_arr.reshape((-1, 1))\n",
        "y_pred = model.predict(new_x)\n",
        "print(f\"predicted response for 2023:\\n{y_pred[-1]}\")\n",
        "\n",
        "new_df = pd.DataFrame({'Year': new_arr})\n",
        "# print(new_df['Year'], df['Year'])\n",
        "\n",
        "sns.scatterplot(x=df['Year'], y=y, s=300, color='#551122')\n",
        "sns.lineplot(x=new_df['Year'], y=y_pred, label='Regression', marker='o', color='#ffdd22')"
      ],
      "metadata": {
        "colab": {
          "base_uri": "https://localhost:8080/",
          "height": 534
        },
        "id": "RiqAojlEz8LD",
        "outputId": "902d16db-8d9a-4c63-f314-bba8abafded5"
      },
      "execution_count": null,
      "outputs": [
        {
          "output_type": "stream",
          "name": "stdout",
          "text": [
            "coefficient of determination: 5.562563498673345e-05\n",
            "intercept: 1.8780079650815678\n",
            "slope: [-0.00050841]\n",
            "predicted response:\n",
            "[0.85559049 0.85559049 0.85559049 ... 0.85406526 0.85406526 0.85406526]\n",
            "predicted response for 2023:\n",
            "0.8494895437456489\n"
          ]
        },
        {
          "output_type": "execute_result",
          "data": {
            "text/plain": [
              "<matplotlib.axes._subplots.AxesSubplot at 0x7f9aac431910>"
            ]
          },
          "metadata": {},
          "execution_count": 204
        },
        {
          "output_type": "display_data",
          "data": {
            "text/plain": [
              "<Figure size 2160x720 with 1 Axes>"
            ],
            "image/png": "[encoded data removed]"
          },
          "metadata": {}
        }
      ]
    }
  ]
}